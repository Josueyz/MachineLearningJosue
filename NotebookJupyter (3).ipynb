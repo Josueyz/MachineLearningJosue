{
 "cells": [
  {
   "cell_type": "markdown",
   "id": "d5d96779-3746-437a-9349-284b4a0bd785",
   "metadata": {
    "tags": []
   },
   "source": [
    "# Mi primer notebook en Jupyter\n",
    "## mi notebook\n",
    "<img src=\"https://docs.microsoft.com/es-es/azure/architecture/data-guide/images/logo_r.svg\" width=400 height=400 />"
   ]
  },
  {
   "cell_type": "markdown",
   "id": "bba04cb8-287f-477e-b42c-33ae9c07712b",
   "metadata": {},
   "source": [
    "Existen dos operadores = y <-"
   ]
  },
  {
   "cell_type": "code",
   "execution_count": 2,
   "id": "8a4ca000-8b3e-4459-97d0-24ae3dcc229f",
   "metadata": {},
   "outputs": [
    {
     "data": {
      "text/html": [
       "10"
      ],
      "text/latex": [
       "10"
      ],
      "text/markdown": [
       "10"
      ],
      "text/plain": [
       "[1] 10"
      ]
     },
     "metadata": {},
     "output_type": "display_data"
    }
   ],
   "source": [
    "A <-10 \n",
    "B <- 100\n",
    "A"
   ]
  },
  {
   "cell_type": "markdown",
   "id": "ac1f6c52-9a15-481d-aed8-c6aa8234aa07",
   "metadata": {},
   "source": [
    "# Operadores aritméticos"
   ]
  },
  {
   "cell_type": "code",
   "execution_count": 3,
   "id": "90b16b79-0f71-4852-83b8-d87d19af3c14",
   "metadata": {},
   "outputs": [
    {
     "data": {
      "text/html": [
       "110"
      ],
      "text/latex": [
       "110"
      ],
      "text/markdown": [
       "110"
      ],
      "text/plain": [
       "[1] 110"
      ]
     },
     "metadata": {},
     "output_type": "display_data"
    }
   ],
   "source": [
    "C = A + B\n",
    "C"
   ]
  },
  {
   "cell_type": "markdown",
   "id": "ff3294d8-5416-4ddf-82ab-082080cbd758",
   "metadata": {},
   "source": [
    "# Mi primera práctica de introducción a machine learning en R \n",
    "## Análisis de sentimientos \n",
    "En este cuaderno se realiza una implementación de un análisis de sentimientos en lenguaje R conun modelo pre-entrenado paquete: [SYUZHET](https://cran.r-project.org/web/packages/syuzhet/vignettes/syuzhet-vignette.html)"
   ]
  },
  {
   "cell_type": "markdown",
   "id": "ce3f0206-13c0-46d8-a813-1e8a1e478af3",
   "metadata": {},
   "source": [
    "## Importar bibliotecas \n",
    "Descripción [...]"
   ]
  },
  {
   "cell_type": "code",
   "execution_count": 6,
   "id": "eac7cdc2-e622-4f08-8e28-a612c4097187",
   "metadata": {},
   "outputs": [
    {
     "name": "stderr",
     "output_type": "stream",
     "text": [
      "Installing package into ‘/srv/rlibs’\n",
      "(as ‘lib’ is unspecified)\n",
      "\n",
      "also installing the dependencies ‘slam’, ‘textshape’, ‘NLP’, ‘zoo’, ‘dtt’\n",
      "\n",
      "\n",
      "also installing the dependency ‘BH’\n",
      "\n",
      "\n",
      "Loading required package: NLP\n",
      "\n"
     ]
    }
   ],
   "source": [
    "install.packages(\"syuzhet\")\n",
    "install.packages(\"RColorBrewer\", lib = \"/srv/rlibs\")\n",
    "install.packages(\"wordcloud\", lib = \"/srv/rlibs\")\n",
    "install.packages(\"tm\", lib = \"/srv/rlibs\")\n",
    "\n",
    "\n",
    "library(syuzhet)\n",
    "library(RColorBrewer)\n",
    "library(wordcloud)\n",
    "library(tm)"
   ]
  },
  {
   "cell_type": "markdown",
   "id": "48e747fa-d038-4e9b-808e-def55bfb03c9",
   "metadata": {},
   "source": [
    "## Texto analizar\n",
    "Descripción [...]"
   ]
  },
  {
   "cell_type": "code",
   "execution_count": 9,
   "id": "4dff3d4a-eda7-437e-a109-f8ab3db18b36",
   "metadata": {},
   "outputs": [
    {
     "data": {
      "text/html": [
       "'La vida es bella'"
      ],
      "text/latex": [
       "'La vida es bella'"
      ],
      "text/markdown": [
       "'La vida es bella'"
      ],
      "text/plain": [
       "[1] \"La vida es bella\""
      ]
     },
     "metadata": {},
     "output_type": "display_data"
    },
    {
     "data": {
      "text/html": [
       "'Los conflictos en las empresas familiares afectan tanto al sistema de la empresa como al de la familia (Ward 1988; Flemons y Cole 1992; Tagiuri y Davis, 1996); por ejemplo, la falta de liquidez puede causar estrés financiero en la organización, al mismo tiempo que derivar en conflictos emocionales entre los miembros de la familia, esta situación se genera dado que no existen barreras capaces de delimitar indubitablemente ambos sistemas. Por lo que, administrar una empresa familiar conlleva el de'"
      ],
      "text/latex": [
       "'Los conflictos en las empresas familiares afectan tanto al sistema de la empresa como al de la familia (Ward 1988; Flemons y Cole 1992; Tagiuri y Davis, 1996); por ejemplo, la falta de liquidez puede causar estrés financiero en la organización, al mismo tiempo que derivar en conflictos emocionales entre los miembros de la familia, esta situación se genera dado que no existen barreras capaces de delimitar indubitablemente ambos sistemas. Por lo que, administrar una empresa familiar conlleva el de'"
      ],
      "text/markdown": [
       "'Los conflictos en las empresas familiares afectan tanto al sistema de la empresa como al de la familia (Ward 1988; Flemons y Cole 1992; Tagiuri y Davis, 1996); por ejemplo, la falta de liquidez puede causar estrés financiero en la organización, al mismo tiempo que derivar en conflictos emocionales entre los miembros de la familia, esta situación se genera dado que no existen barreras capaces de delimitar indubitablemente ambos sistemas. Por lo que, administrar una empresa familiar conlleva el de'"
      ],
      "text/plain": [
       "[1] \"Los conflictos en las empresas familiares afectan tanto al sistema de la empresa como al de la familia (Ward 1988; Flemons y Cole 1992; Tagiuri y Davis, 1996); por ejemplo, la falta de liquidez puede causar estrés financiero en la organización, al mismo tiempo que derivar en conflictos emocionales entre los miembros de la familia, esta situación se genera dado que no existen barreras capaces de delimitar indubitablemente ambos sistemas. Por lo que, administrar una empresa familiar conlleva el de\""
      ]
     },
     "metadata": {},
     "output_type": "display_data"
    },
    {
     "data": {
      "text/html": [
       "'Me gustas cuando callas porque estás como ausente, y me oyes desde lejos, y mi voz no te toca. Parece que los ojos se te hubieran volado y parece que un beso te cerrara la boca'"
      ],
      "text/latex": [
       "'Me gustas cuando callas porque estás como ausente, y me oyes desde lejos, y mi voz no te toca. Parece que los ojos se te hubieran volado y parece que un beso te cerrara la boca'"
      ],
      "text/markdown": [
       "'Me gustas cuando callas porque estás como ausente, y me oyes desde lejos, y mi voz no te toca. Parece que los ojos se te hubieran volado y parece que un beso te cerrara la boca'"
      ],
      "text/plain": [
       "[1] \"Me gustas cuando callas porque estás como ausente, y me oyes desde lejos, y mi voz no te toca. Parece que los ojos se te hubieran volado y parece que un beso te cerrara la boca\""
      ]
     },
     "metadata": {},
     "output_type": "display_data"
    },
    {
     "data": {
      "text/html": [
       "'eres la peor persona del mundo te odio'"
      ],
      "text/latex": [
       "'eres la peor persona del mundo te odio'"
      ],
      "text/markdown": [
       "'eres la peor persona del mundo te odio'"
      ],
      "text/plain": [
       "[1] \"eres la peor persona del mundo te odio\""
      ]
     },
     "metadata": {},
     "output_type": "display_data"
    }
   ],
   "source": [
    "texto1 <- \"La vida es bella\"\n",
    "texto2 <- \"Los conflictos en las empresas familiares afectan tanto al sistema de la empresa como al de la familia (Ward 1988; Flemons y Cole 1992; Tagiuri y Davis, 1996); por ejemplo, la falta de liquidez puede causar estrés financiero en la organización, al mismo tiempo que derivar en conflictos emocionales entre los miembros de la familia, esta situación se genera dado que no existen barreras capaces de delimitar indubitablemente ambos sistemas. Por lo que, administrar una empresa familiar conlleva el de\"\n",
    "texto3 <- \"Me gustas cuando callas porque estás como ausente, y me oyes desde lejos, y mi voz no te toca. Parece que los ojos se te hubieran volado y parece que un beso te cerrara la boca\"\n",
    "texto4 <- \"eres la peor persona del mundo te odio\"\n",
    "texto1\n",
    "texto2\n",
    "texto3\n",
    "texto4"
   ]
  },
  {
   "cell_type": "markdown",
   "id": "6df4e5f0-a868-42d9-a503-03087dd72565",
   "metadata": {},
   "source": [
    "# Obteener los sentimientos\n",
    "Descripción uso bayes"
   ]
  },
  {
   "cell_type": "code",
   "execution_count": 11,
   "id": "0c1d8386-b5b6-4ec8-a938-72ed379d5476",
   "metadata": {},
   "outputs": [
    {
     "data": {
      "text/html": [
       "<table class=\"dataframe\">\n",
       "<caption>A data.frame: 1 × 10</caption>\n",
       "<thead>\n",
       "\t<tr><th scope=col>anger</th><th scope=col>anticipation</th><th scope=col>disgust</th><th scope=col>fear</th><th scope=col>joy</th><th scope=col>sadness</th><th scope=col>surprise</th><th scope=col>trust</th><th scope=col>negative</th><th scope=col>positive</th></tr>\n",
       "\t<tr><th scope=col>&lt;dbl&gt;</th><th scope=col>&lt;dbl&gt;</th><th scope=col>&lt;dbl&gt;</th><th scope=col>&lt;dbl&gt;</th><th scope=col>&lt;dbl&gt;</th><th scope=col>&lt;dbl&gt;</th><th scope=col>&lt;dbl&gt;</th><th scope=col>&lt;dbl&gt;</th><th scope=col>&lt;dbl&gt;</th><th scope=col>&lt;dbl&gt;</th></tr>\n",
       "</thead>\n",
       "<tbody>\n",
       "\t<tr><td>0</td><td>1</td><td>0</td><td>0</td><td>1</td><td>0</td><td>0</td><td>1</td><td>0</td><td>1</td></tr>\n",
       "</tbody>\n",
       "</table>\n"
      ],
      "text/latex": [
       "A data.frame: 1 × 10\n",
       "\\begin{tabular}{llllllllll}\n",
       " anger & anticipation & disgust & fear & joy & sadness & surprise & trust & negative & positive\\\\\n",
       " <dbl> & <dbl> & <dbl> & <dbl> & <dbl> & <dbl> & <dbl> & <dbl> & <dbl> & <dbl>\\\\\n",
       "\\hline\n",
       "\t 0 & 1 & 0 & 0 & 1 & 0 & 0 & 1 & 0 & 1\\\\\n",
       "\\end{tabular}\n"
      ],
      "text/markdown": [
       "\n",
       "A data.frame: 1 × 10\n",
       "\n",
       "| anger &lt;dbl&gt; | anticipation &lt;dbl&gt; | disgust &lt;dbl&gt; | fear &lt;dbl&gt; | joy &lt;dbl&gt; | sadness &lt;dbl&gt; | surprise &lt;dbl&gt; | trust &lt;dbl&gt; | negative &lt;dbl&gt; | positive &lt;dbl&gt; |\n",
       "|---|---|---|---|---|---|---|---|---|---|\n",
       "| 0 | 1 | 0 | 0 | 1 | 0 | 0 | 1 | 0 | 1 |\n",
       "\n"
      ],
      "text/plain": [
       "  anger anticipation disgust fear joy sadness surprise trust negative positive\n",
       "1 0     1            0       0    1   0       0        1     0        1       "
      ]
     },
     "metadata": {},
     "output_type": "display_data"
    },
    {
     "data": {
      "text/html": [
       "<table class=\"dataframe\">\n",
       "<caption>A data.frame: 1 × 10</caption>\n",
       "<thead>\n",
       "\t<tr><th scope=col>anger</th><th scope=col>anticipation</th><th scope=col>disgust</th><th scope=col>fear</th><th scope=col>joy</th><th scope=col>sadness</th><th scope=col>surprise</th><th scope=col>trust</th><th scope=col>negative</th><th scope=col>positive</th></tr>\n",
       "\t<tr><th scope=col>&lt;dbl&gt;</th><th scope=col>&lt;dbl&gt;</th><th scope=col>&lt;dbl&gt;</th><th scope=col>&lt;dbl&gt;</th><th scope=col>&lt;dbl&gt;</th><th scope=col>&lt;dbl&gt;</th><th scope=col>&lt;dbl&gt;</th><th scope=col>&lt;dbl&gt;</th><th scope=col>&lt;dbl&gt;</th><th scope=col>&lt;dbl&gt;</th></tr>\n",
       "</thead>\n",
       "<tbody>\n",
       "\t<tr><td>1</td><td>2</td><td>1</td><td>1</td><td>0</td><td>0</td><td>0</td><td>2</td><td>2</td><td>2</td></tr>\n",
       "</tbody>\n",
       "</table>\n"
      ],
      "text/latex": [
       "A data.frame: 1 × 10\n",
       "\\begin{tabular}{llllllllll}\n",
       " anger & anticipation & disgust & fear & joy & sadness & surprise & trust & negative & positive\\\\\n",
       " <dbl> & <dbl> & <dbl> & <dbl> & <dbl> & <dbl> & <dbl> & <dbl> & <dbl> & <dbl>\\\\\n",
       "\\hline\n",
       "\t 1 & 2 & 1 & 1 & 0 & 0 & 0 & 2 & 2 & 2\\\\\n",
       "\\end{tabular}\n"
      ],
      "text/markdown": [
       "\n",
       "A data.frame: 1 × 10\n",
       "\n",
       "| anger &lt;dbl&gt; | anticipation &lt;dbl&gt; | disgust &lt;dbl&gt; | fear &lt;dbl&gt; | joy &lt;dbl&gt; | sadness &lt;dbl&gt; | surprise &lt;dbl&gt; | trust &lt;dbl&gt; | negative &lt;dbl&gt; | positive &lt;dbl&gt; |\n",
       "|---|---|---|---|---|---|---|---|---|---|\n",
       "| 1 | 2 | 1 | 1 | 0 | 0 | 0 | 2 | 2 | 2 |\n",
       "\n"
      ],
      "text/plain": [
       "  anger anticipation disgust fear joy sadness surprise trust negative positive\n",
       "1 1     2            1       1    0   0       0        2     2        2       "
      ]
     },
     "metadata": {},
     "output_type": "display_data"
    },
    {
     "data": {
      "text/html": [
       "<table class=\"dataframe\">\n",
       "<caption>A data.frame: 1 × 10</caption>\n",
       "<thead>\n",
       "\t<tr><th scope=col>anger</th><th scope=col>anticipation</th><th scope=col>disgust</th><th scope=col>fear</th><th scope=col>joy</th><th scope=col>sadness</th><th scope=col>surprise</th><th scope=col>trust</th><th scope=col>negative</th><th scope=col>positive</th></tr>\n",
       "\t<tr><th scope=col>&lt;dbl&gt;</th><th scope=col>&lt;dbl&gt;</th><th scope=col>&lt;dbl&gt;</th><th scope=col>&lt;dbl&gt;</th><th scope=col>&lt;dbl&gt;</th><th scope=col>&lt;dbl&gt;</th><th scope=col>&lt;dbl&gt;</th><th scope=col>&lt;dbl&gt;</th><th scope=col>&lt;dbl&gt;</th><th scope=col>&lt;dbl&gt;</th></tr>\n",
       "</thead>\n",
       "<tbody>\n",
       "\t<tr><td>0</td><td>1</td><td>0</td><td>0</td><td>1</td><td>2</td><td>2</td><td>0</td><td>2</td><td>1</td></tr>\n",
       "</tbody>\n",
       "</table>\n"
      ],
      "text/latex": [
       "A data.frame: 1 × 10\n",
       "\\begin{tabular}{llllllllll}\n",
       " anger & anticipation & disgust & fear & joy & sadness & surprise & trust & negative & positive\\\\\n",
       " <dbl> & <dbl> & <dbl> & <dbl> & <dbl> & <dbl> & <dbl> & <dbl> & <dbl> & <dbl>\\\\\n",
       "\\hline\n",
       "\t 0 & 1 & 0 & 0 & 1 & 2 & 2 & 0 & 2 & 1\\\\\n",
       "\\end{tabular}\n"
      ],
      "text/markdown": [
       "\n",
       "A data.frame: 1 × 10\n",
       "\n",
       "| anger &lt;dbl&gt; | anticipation &lt;dbl&gt; | disgust &lt;dbl&gt; | fear &lt;dbl&gt; | joy &lt;dbl&gt; | sadness &lt;dbl&gt; | surprise &lt;dbl&gt; | trust &lt;dbl&gt; | negative &lt;dbl&gt; | positive &lt;dbl&gt; |\n",
       "|---|---|---|---|---|---|---|---|---|---|\n",
       "| 0 | 1 | 0 | 0 | 1 | 2 | 2 | 0 | 2 | 1 |\n",
       "\n"
      ],
      "text/plain": [
       "  anger anticipation disgust fear joy sadness surprise trust negative positive\n",
       "1 0     1            0       0    1   2       2        0     2        1       "
      ]
     },
     "metadata": {},
     "output_type": "display_data"
    },
    {
     "data": {
      "text/html": [
       "<table class=\"dataframe\">\n",
       "<caption>A data.frame: 1 × 10</caption>\n",
       "<thead>\n",
       "\t<tr><th scope=col>anger</th><th scope=col>anticipation</th><th scope=col>disgust</th><th scope=col>fear</th><th scope=col>joy</th><th scope=col>sadness</th><th scope=col>surprise</th><th scope=col>trust</th><th scope=col>negative</th><th scope=col>positive</th></tr>\n",
       "\t<tr><th scope=col>&lt;dbl&gt;</th><th scope=col>&lt;dbl&gt;</th><th scope=col>&lt;dbl&gt;</th><th scope=col>&lt;dbl&gt;</th><th scope=col>&lt;dbl&gt;</th><th scope=col>&lt;dbl&gt;</th><th scope=col>&lt;dbl&gt;</th><th scope=col>&lt;dbl&gt;</th><th scope=col>&lt;dbl&gt;</th><th scope=col>&lt;dbl&gt;</th></tr>\n",
       "</thead>\n",
       "<tbody>\n",
       "\t<tr><td>1</td><td>0</td><td>1</td><td>2</td><td>0</td><td>2</td><td>0</td><td>0</td><td>2</td><td>0</td></tr>\n",
       "</tbody>\n",
       "</table>\n"
      ],
      "text/latex": [
       "A data.frame: 1 × 10\n",
       "\\begin{tabular}{llllllllll}\n",
       " anger & anticipation & disgust & fear & joy & sadness & surprise & trust & negative & positive\\\\\n",
       " <dbl> & <dbl> & <dbl> & <dbl> & <dbl> & <dbl> & <dbl> & <dbl> & <dbl> & <dbl>\\\\\n",
       "\\hline\n",
       "\t 1 & 0 & 1 & 2 & 0 & 2 & 0 & 0 & 2 & 0\\\\\n",
       "\\end{tabular}\n"
      ],
      "text/markdown": [
       "\n",
       "A data.frame: 1 × 10\n",
       "\n",
       "| anger &lt;dbl&gt; | anticipation &lt;dbl&gt; | disgust &lt;dbl&gt; | fear &lt;dbl&gt; | joy &lt;dbl&gt; | sadness &lt;dbl&gt; | surprise &lt;dbl&gt; | trust &lt;dbl&gt; | negative &lt;dbl&gt; | positive &lt;dbl&gt; |\n",
       "|---|---|---|---|---|---|---|---|---|---|\n",
       "| 1 | 0 | 1 | 2 | 0 | 2 | 0 | 0 | 2 | 0 |\n",
       "\n"
      ],
      "text/plain": [
       "  anger anticipation disgust fear joy sadness surprise trust negative positive\n",
       "1 1     0            1       2    0   2       0        0     2        0       "
      ]
     },
     "metadata": {},
     "output_type": "display_data"
    }
   ],
   "source": [
    "sentimientos1 <- get_nrc_sentiment(texto1, lang = \"spanish\")\n",
    "sentimientos2 <- get_nrc_sentiment(texto2, lang = \"spanish\")\n",
    "sentimientos3 <- get_nrc_sentiment(texto3, lang = \"spanish\")\n",
    "sentimientos4 <- get_nrc_sentiment(texto4, lang = \"spanish\")\n",
    "sentimientos1\n",
    "sentimientos2\n",
    "sentimientos3\n",
    "sentimientos4"
   ]
  },
  {
   "cell_type": "markdown",
   "id": "60c2db09-e7ee-42d7-9acd-d6c538a9549c",
   "metadata": {},
   "source": [
    "# Resumen\n",
    "Descripción"
   ]
  },
  {
   "cell_type": "code",
   "execution_count": 16,
   "id": "2c6d3377-1192-4c33-b4bd-7e328756b40a",
   "metadata": {},
   "outputs": [
    {
     "data": {
      "text/plain": [
       "     anger    anticipation    disgust       fear        joy       sadness \n",
       " Min.   :0   Min.   :1     Min.   :0   Min.   :0   Min.   :1   Min.   :0  \n",
       " 1st Qu.:0   1st Qu.:1     1st Qu.:0   1st Qu.:0   1st Qu.:1   1st Qu.:0  \n",
       " Median :0   Median :1     Median :0   Median :0   Median :1   Median :0  \n",
       " Mean   :0   Mean   :1     Mean   :0   Mean   :0   Mean   :1   Mean   :0  \n",
       " 3rd Qu.:0   3rd Qu.:1     3rd Qu.:0   3rd Qu.:0   3rd Qu.:1   3rd Qu.:0  \n",
       " Max.   :0   Max.   :1     Max.   :0   Max.   :0   Max.   :1   Max.   :0  \n",
       "    surprise     trust      negative    positive\n",
       " Min.   :0   Min.   :1   Min.   :0   Min.   :1  \n",
       " 1st Qu.:0   1st Qu.:1   1st Qu.:0   1st Qu.:1  \n",
       " Median :0   Median :1   Median :0   Median :1  \n",
       " Mean   :0   Mean   :1   Mean   :0   Mean   :1  \n",
       " 3rd Qu.:0   3rd Qu.:1   3rd Qu.:0   3rd Qu.:1  \n",
       " Max.   :0   Max.   :1   Max.   :0   Max.   :1  "
      ]
     },
     "metadata": {},
     "output_type": "display_data"
    },
    {
     "data": {
      "text/plain": [
       "     anger    anticipation    disgust       fear        joy       sadness \n",
       " Min.   :1   Min.   :2     Min.   :1   Min.   :1   Min.   :0   Min.   :0  \n",
       " 1st Qu.:1   1st Qu.:2     1st Qu.:1   1st Qu.:1   1st Qu.:0   1st Qu.:0  \n",
       " Median :1   Median :2     Median :1   Median :1   Median :0   Median :0  \n",
       " Mean   :1   Mean   :2     Mean   :1   Mean   :1   Mean   :0   Mean   :0  \n",
       " 3rd Qu.:1   3rd Qu.:2     3rd Qu.:1   3rd Qu.:1   3rd Qu.:0   3rd Qu.:0  \n",
       " Max.   :1   Max.   :2     Max.   :1   Max.   :1   Max.   :0   Max.   :0  \n",
       "    surprise     trust      negative    positive\n",
       " Min.   :0   Min.   :2   Min.   :2   Min.   :2  \n",
       " 1st Qu.:0   1st Qu.:2   1st Qu.:2   1st Qu.:2  \n",
       " Median :0   Median :2   Median :2   Median :2  \n",
       " Mean   :0   Mean   :2   Mean   :2   Mean   :2  \n",
       " 3rd Qu.:0   3rd Qu.:2   3rd Qu.:2   3rd Qu.:2  \n",
       " Max.   :0   Max.   :2   Max.   :2   Max.   :2  "
      ]
     },
     "metadata": {},
     "output_type": "display_data"
    },
    {
     "data": {
      "text/plain": [
       "     anger    anticipation    disgust       fear        joy       sadness \n",
       " Min.   :0   Min.   :1     Min.   :0   Min.   :0   Min.   :1   Min.   :2  \n",
       " 1st Qu.:0   1st Qu.:1     1st Qu.:0   1st Qu.:0   1st Qu.:1   1st Qu.:2  \n",
       " Median :0   Median :1     Median :0   Median :0   Median :1   Median :2  \n",
       " Mean   :0   Mean   :1     Mean   :0   Mean   :0   Mean   :1   Mean   :2  \n",
       " 3rd Qu.:0   3rd Qu.:1     3rd Qu.:0   3rd Qu.:0   3rd Qu.:1   3rd Qu.:2  \n",
       " Max.   :0   Max.   :1     Max.   :0   Max.   :0   Max.   :1   Max.   :2  \n",
       "    surprise     trust      negative    positive\n",
       " Min.   :2   Min.   :0   Min.   :2   Min.   :1  \n",
       " 1st Qu.:2   1st Qu.:0   1st Qu.:2   1st Qu.:1  \n",
       " Median :2   Median :0   Median :2   Median :1  \n",
       " Mean   :2   Mean   :0   Mean   :2   Mean   :1  \n",
       " 3rd Qu.:2   3rd Qu.:0   3rd Qu.:2   3rd Qu.:1  \n",
       " Max.   :2   Max.   :0   Max.   :2   Max.   :1  "
      ]
     },
     "metadata": {},
     "output_type": "display_data"
    },
    {
     "data": {
      "text/plain": [
       "     anger    anticipation    disgust       fear        joy       sadness \n",
       " Min.   :1   Min.   :0     Min.   :1   Min.   :2   Min.   :0   Min.   :2  \n",
       " 1st Qu.:1   1st Qu.:0     1st Qu.:1   1st Qu.:2   1st Qu.:0   1st Qu.:2  \n",
       " Median :1   Median :0     Median :1   Median :2   Median :0   Median :2  \n",
       " Mean   :1   Mean   :0     Mean   :1   Mean   :2   Mean   :0   Mean   :2  \n",
       " 3rd Qu.:1   3rd Qu.:0     3rd Qu.:1   3rd Qu.:2   3rd Qu.:0   3rd Qu.:2  \n",
       " Max.   :1   Max.   :0     Max.   :1   Max.   :2   Max.   :0   Max.   :2  \n",
       "    surprise     trust      negative    positive\n",
       " Min.   :0   Min.   :0   Min.   :2   Min.   :0  \n",
       " 1st Qu.:0   1st Qu.:0   1st Qu.:2   1st Qu.:0  \n",
       " Median :0   Median :0   Median :2   Median :0  \n",
       " Mean   :0   Mean   :0   Mean   :2   Mean   :0  \n",
       " 3rd Qu.:0   3rd Qu.:0   3rd Qu.:2   3rd Qu.:0  \n",
       " Max.   :0   Max.   :0   Max.   :2   Max.   :0  "
      ]
     },
     "metadata": {},
     "output_type": "display_data"
    }
   ],
   "source": [
    "summary(sentimientos1)\n",
    "summary(sentimientos2)\n",
    "summary(sentimientos3)\n",
    "summary(sentimientos4)"
   ]
  },
  {
   "cell_type": "markdown",
   "id": "30441d53-b1a7-45f2-85d2-fe38b69aa42e",
   "metadata": {},
   "source": [
    "# Gráficas de los sentimientos \n",
    "descripción ..."
   ]
  },
  {
   "cell_type": "code",
   "execution_count": 41,
   "id": "bb5ffce6-7c13-4b0a-98a2-777da1e21d72",
   "metadata": {},
   "outputs": [
    {
     "data": {
      "image/png": "[encoded data removed]",
      "text/plain": [
       "Plot with title “Análisis de sentimientos”"
      ]
     },
     "metadata": {
      "image/png": {
       "height": 420,
       "width": 420
      }
     },
     "output_type": "display_data"
    }
   ],
   "source": [
    "barplot(\n",
    "    colSums(prop.table(sentimientos1[,1:8])),\n",
    "    col = brewer.pal(n = 8, name = \"Set3\"),\n",
    "    main = \"Análisis de sentimientos\", \n",
    "    xlab = \"Sentimientos 1\", ylab = NULL,las = 2,cex.names=.8,cex.lab=.8)"
   ]
  },
  {
   "cell_type": "code",
   "execution_count": 33,
   "id": "02fd7ad8-26aa-4ec5-9e4b-8353a9433f87",
   "metadata": {},
   "outputs": [
    {
     "data": {
      "image/png": "[encoded data removed]",
      "text/plain": [
       "Plot with title “Análisis de sentimientos”"
      ]
     },
     "metadata": {
      "image/png": {
       "height": 420,
       "width": 420
      }
     },
     "output_type": "display_data"
    }
   ],
   "source": [
    "barplot(\n",
    "    colSums(prop.table(sentimientos4[,1:8])),\n",
    "    col = brewer.pal(n = 8, name = \"Set3\"),\n",
    "    main = \"Análisis de sentimientos\", \n",
    "    xlab = \"Sentimientos 1\", ylab = NULL,las = 2,cex.names=.8)"
   ]
  },
  {
   "cell_type": "code",
   "execution_count": null,
   "id": "a455d0b1-510b-4c2f-a4e4-94f4fdd230d6",
   "metadata": {},
   "outputs": [],
   "source": []
  }
 ],
 "metadata": {
  "kernelspec": {
   "display_name": "R",
   "language": "R",
   "name": "ir"
  },
  "language_info": {
   "codemirror_mode": "r",
   "file_extension": ".r",
   "mimetype": "text/x-r-source",
   "name": "R",
   "pygments_lexer": "r",
   "version": "4.1.2"
  }
 },
 "nbformat": 4,
 "nbformat_minor": 5
}
