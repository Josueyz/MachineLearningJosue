{
 "cells": [
  {
   "cell_type": "markdown",
   "id": "2e94bc5f-f62f-4c20-bd0b-6a3162ec5500",
   "metadata": {},
   "source": [
    "\n",
    "<div>\n",
    "    \n",
    "<img src=\"https://upload.wikimedia.org/wikipedia/commons/thumb/1/1b/R_logo.svg/1280px-R_logo.svg.png\" width=10% >\n",
    "    </div >\n",
    "# Repaso del lenguaje R"
   ]
  },
  {
   "cell_type": "markdown",
   "id": "c8bb238a-a644-4c09-89dc-ae8c96d5bfcf",
   "metadata": {},
   "source": [
    "En este notebook se busca repasar los conceptos básicos del lenguaje de programación R, características especiales del lenguaje y\n",
    "funciones que puedan resultar de utilidad en el tratamiento de datos dentro del curso.\n",
    "\n",
    "También se abordan las funcionalidades básicas que se puedan ver afectadas al utilizarlo en un notebook como rutas de entorno.\n",
    "\n",
    "En cursiva están las indicaciones para el siguiente bloque de código.\n"
   ]
  },
  {
   "cell_type": "markdown",
   "id": "2ec99be3-f4b2-4dbe-94e7-3813b7270626",
   "metadata": {
    "tags": []
   },
   "source": [
    "## Operadores lógicos"
   ]
  },
  {
   "cell_type": "markdown",
   "id": "d5d4144b-8a38-450b-bd2f-0022c0b39d60",
   "metadata": {},
   "source": [
    "### Operador pertenece"
   ]
  },
  {
   "cell_type": "markdown",
   "id": "5c26ddeb-ceab-40a0-be56-5130232f0503",
   "metadata": {},
   "source": [
    "Dentro de los operadores lógicos R destaca por cuenta con el operador pertenece con el símbolo %in%"
   ]
  },
  {
   "cell_type": "markdown",
   "id": "61c90168-e840-4fe3-bffe-54d5c5efac0b",
   "metadata": {},
   "source": [
    ">_Realice una operación con el operador pertenece_"
   ]
  },
  {
   "cell_type": "code",
   "execution_count": 2,
   "id": "44d10e5e-d7a7-4c0a-8f48-19d82d2e765a",
   "metadata": {},
   "outputs": [
    {
     "data": {
      "text/html": [
       "TRUE"
      ],
      "text/latex": [
       "TRUE"
      ],
      "text/markdown": [
       "TRUE"
      ],
      "text/plain": [
       "[1] TRUE"
      ]
     },
     "metadata": {},
     "output_type": "display_data"
    }
   ],
   "source": [
    "a <- seq(1,1)\n",
    "b <- seq(1,1)\n",
    "a %in% b"
   ]
  },
  {
   "cell_type": "markdown",
   "id": "d5f8b12c-df19-473a-b4b7-2a9eea29a990",
   "metadata": {},
   "source": [
    "### Operador identical"
   ]
  },
  {
   "cell_type": "markdown",
   "id": "01be588b-e291-435b-84e3-0ef4f9ee04a0",
   "metadata": {},
   "source": [
    ">_Realice una operación con el operador identical_"
   ]
  },
  {
   "cell_type": "code",
   "execution_count": 8,
   "id": "98895652-2599-44f9-817a-ba0ac5a0f1cd",
   "metadata": {},
   "outputs": [
    {
     "data": {
      "text/html": [
       "TRUE"
      ],
      "text/latex": [
       "TRUE"
      ],
      "text/markdown": [
       "TRUE"
      ],
      "text/plain": [
       "[1] TRUE"
      ]
     },
     "metadata": {},
     "output_type": "display_data"
    }
   ],
   "source": [
    "c <- 3\n",
    "c==3"
   ]
  },
  {
   "cell_type": "markdown",
   "id": "7712ac7f-944d-41ff-aea8-9200875bfdf1",
   "metadata": {},
   "source": [
    "### Operador XOR"
   ]
  },
  {
   "cell_type": "markdown",
   "id": "9f8fab70-fdaa-40ed-b21e-5089471790f7",
   "metadata": {},
   "source": [
    ">_Utilice el operador XOR con los resultados de las comparaciones anteriores_"
   ]
  },
  {
   "cell_type": "code",
   "execution_count": 20,
   "id": "4e1cb329-bf68-4883-9f50-3f675534ce0a",
   "metadata": {},
   "outputs": [
    {
     "data": {
      "text/html": [
       "<style>\n",
       ".list-inline {list-style: none; margin:0; padding: 0}\n",
       ".list-inline>li {display: inline-block}\n",
       ".list-inline>li:not(:last-child)::after {content: \"\\00b7\"; padding: 0 .5ex}\n",
       "</style>\n",
       "<ol class=list-inline><li>1</li><li>2</li><li>3</li><li>4</li><li>5</li></ol>\n"
      ],
      "text/latex": [
       "\\begin{enumerate*}\n",
       "\\item 1\n",
       "\\item 2\n",
       "\\item 3\n",
       "\\item 4\n",
       "\\item 5\n",
       "\\end{enumerate*}\n"
      ],
      "text/markdown": [
       "1. 1\n",
       "2. 2\n",
       "3. 3\n",
       "4. 4\n",
       "5. 5\n",
       "\n",
       "\n"
      ],
      "text/plain": [
       "[1] 1 2 3 4 5"
      ]
     },
     "metadata": {},
     "output_type": "display_data"
    },
    {
     "data": {
      "text/html": [
       "<style>\n",
       ".list-inline {list-style: none; margin:0; padding: 0}\n",
       ".list-inline>li {display: inline-block}\n",
       ".list-inline>li:not(:last-child)::after {content: \"\\00b7\"; padding: 0 .5ex}\n",
       "</style>\n",
       "<ol class=list-inline><li>0</li><li>2</li><li>4</li><li>6</li><li>8</li></ol>\n"
      ],
      "text/latex": [
       "\\begin{enumerate*}\n",
       "\\item 0\n",
       "\\item 2\n",
       "\\item 4\n",
       "\\item 6\n",
       "\\item 8\n",
       "\\end{enumerate*}\n"
      ],
      "text/markdown": [
       "1. 0\n",
       "2. 2\n",
       "3. 4\n",
       "4. 6\n",
       "5. 8\n",
       "\n",
       "\n"
      ],
      "text/plain": [
       "[1] 0 2 4 6 8"
      ]
     },
     "metadata": {},
     "output_type": "display_data"
    },
    {
     "data": {
      "text/html": [
       "<style>\n",
       ".list-inline {list-style: none; margin:0; padding: 0}\n",
       ".list-inline>li {display: inline-block}\n",
       ".list-inline>li:not(:last-child)::after {content: \"\\00b7\"; padding: 0 .5ex}\n",
       "</style>\n",
       "<ol class=list-inline><li>TRUE</li><li>FALSE</li><li>FALSE</li><li>FALSE</li><li>FALSE</li></ol>\n"
      ],
      "text/latex": [
       "\\begin{enumerate*}\n",
       "\\item TRUE\n",
       "\\item FALSE\n",
       "\\item FALSE\n",
       "\\item FALSE\n",
       "\\item FALSE\n",
       "\\end{enumerate*}\n"
      ],
      "text/markdown": [
       "1. TRUE\n",
       "2. FALSE\n",
       "3. FALSE\n",
       "4. FALSE\n",
       "5. FALSE\n",
       "\n",
       "\n"
      ],
      "text/plain": [
       "[1]  TRUE FALSE FALSE FALSE FALSE"
      ]
     },
     "metadata": {},
     "output_type": "display_data"
    }
   ],
   "source": [
    "d <- seq(1,5)\n",
    "d\n",
    "e <- seq(0,8, by = 2)\n",
    "e\n",
    "xor(d,e)"
   ]
  },
  {
   "cell_type": "markdown",
   "id": "619a6457-cd51-4a54-9748-43862fde5c12",
   "metadata": {},
   "source": [
    "## Estructura de control"
   ]
  },
  {
   "cell_type": "markdown",
   "id": "17a057ed-902a-4dc5-9d6f-7b4a9d8abea6",
   "metadata": {},
   "source": [
    "sentencia if\n",
    "> Pinta en pantalla multiplo de tres cuando la division entre tres no tenga decimales"
   ]
  },
  {
   "cell_type": "code",
   "execution_count": 78,
   "id": "f0f2c54d-8f2a-4559-8254-b994c0e40a3c",
   "metadata": {},
   "outputs": [
    {
     "name": "stdout",
     "output_type": "stream",
     "text": [
      "[1] \"divisible\"\n"
     ]
    }
   ],
   "source": []
  },
  {
   "cell_type": "markdown",
   "id": "a1d5bd2d-f12d-4a45-869e-e94ae4751715",
   "metadata": {},
   "source": [
    "## Bucles"
   ]
  },
  {
   "cell_type": "markdown",
   "id": "7534fd31-93e8-4613-aac7-7053d69b68ce",
   "metadata": {},
   "source": [
    "> _Escribe un ciclo que cuente del 1 al 5_"
   ]
  },
  {
   "cell_type": "code",
   "execution_count": 89,
   "id": "df64e6ef-0cb4-4015-a01a-f3080289797f",
   "metadata": {},
   "outputs": [
    {
     "name": "stdout",
     "output_type": "stream",
     "text": [
      "[1] 1\n",
      "[1] 2\n",
      "[1] 3\n",
      "[1] 4\n",
      "[1] 5\n"
     ]
    }
   ],
   "source": []
  },
  {
   "cell_type": "markdown",
   "id": "ad823167-bac8-49b3-8064-9e20a1c7d4ee",
   "metadata": {},
   "source": [
    "## Ejercicio "
   ]
  },
  {
   "cell_type": "markdown",
   "id": "5492de8d-8e2d-4ce2-8635-d64d2d8bdd91",
   "metadata": {},
   "source": [
    "Dado un número entero, realice las siguientes acciones condicionales:\n",
    "\n",
    "Si **_n_** es impar,  imprimir raro\n",
    "Si **_n_** es  par y en el rango inclusivo de 2 a 5, impresión normal <br>\n",
    "Si **_n_** es par y en el rango inclusivo de 6 a 20 , impresión raro  <br>\n",
    "Si **_n_** es par y mayor que 20 , impresión normal  <br>\n",
    "Complete el código de resguardo proporcionado en su editor para imprimir si **_n_** o no es raro. <br>\n",
    "\n",
    "Restricciones\n",
    "\n",
    "a <=  **_n_** <= 100\n"
   ]
  },
  {
   "cell_type": "code",
   "execution_count": 73,
   "id": "e4036173-12b9-43fb-ba81-64512df510ab",
   "metadata": {},
   "outputs": [
    {
     "name": "stdout",
     "output_type": "stream",
     "text": [
      "[1] \"Raro\"\n"
     ]
    }
   ],
   "source": []
  },
  {
   "cell_type": "markdown",
   "id": "88fc346c-e53b-471d-a1b3-4af977c8f594",
   "metadata": {},
   "source": [
    "## Funciones y recursividad"
   ]
  },
  {
   "cell_type": "markdown",
   "id": "6efa50b9-3c02-4942-b29e-765d8aa09812",
   "metadata": {},
   "source": [
    "Escriba una funcion recursiva que calule la factorial de un número entero"
   ]
  },
  {
   "cell_type": "code",
   "execution_count": 76,
   "id": "10fbf6a5-0246-4e0a-86a2-3faa30aa94f1",
   "metadata": {},
   "outputs": [
    {
     "name": "stdout",
     "output_type": "stream",
     "text": [
      "[1] 3628800\n"
     ]
    }
   ],
   "source": []
  },
  {
   "cell_type": "markdown",
   "id": "6447030c-a52f-441d-856d-e920c4354309",
   "metadata": {
    "tags": []
   },
   "source": [
    "## Vectores"
   ]
  },
  {
   "cell_type": "markdown",
   "id": "a1b60070-99ad-4646-8cd5-1ca909121d18",
   "metadata": {},
   "source": [
    "Un vector es un conjunto de datos en R"
   ]
  },
  {
   "cell_type": "markdown",
   "id": "ecea2a8b-0e56-4e0b-b82e-bf8b179cfd7c",
   "metadata": {},
   "source": [
    ">_Declare un vector_"
   ]
  },
  {
   "cell_type": "code",
   "execution_count": 38,
   "id": "66272b1a-ded5-49d7-a96d-4fec0a34f188",
   "metadata": {},
   "outputs": [
    {
     "data": {
      "text/html": [
       "<style>\n",
       ".list-inline {list-style: none; margin:0; padding: 0}\n",
       ".list-inline>li {display: inline-block}\n",
       ".list-inline>li:not(:last-child)::after {content: \"\\00b7\"; padding: 0 .5ex}\n",
       "</style>\n",
       "<ol class=list-inline><li>3</li><li>1</li><li>2</li><li>5</li><li>1</li></ol>\n"
      ],
      "text/latex": [
       "\\begin{enumerate*}\n",
       "\\item 3\n",
       "\\item 1\n",
       "\\item 2\n",
       "\\item 5\n",
       "\\item 1\n",
       "\\end{enumerate*}\n"
      ],
      "text/markdown": [
       "1. 3\n",
       "2. 1\n",
       "3. 2\n",
       "4. 5\n",
       "5. 1\n",
       "\n",
       "\n"
      ],
      "text/plain": [
       "[1] 3 1 2 5 1"
      ]
     },
     "metadata": {},
     "output_type": "display_data"
    }
   ],
   "source": [
    "\n"
   ]
  },
  {
   "cell_type": "markdown",
   "id": "111bee6f-8a9f-471a-9112-27e301ea0c24",
   "metadata": {},
   "source": [
    ">_Concatene dos vectores_"
   ]
  },
  {
   "cell_type": "code",
   "execution_count": 39,
   "id": "4ccc9d17-de29-4119-bedc-0338c4987532",
   "metadata": {},
   "outputs": [
    {
     "data": {
      "text/html": [
       "<style>\n",
       ".list-inline {list-style: none; margin:0; padding: 0}\n",
       ".list-inline>li {display: inline-block}\n",
       ".list-inline>li:not(:last-child)::after {content: \"\\00b7\"; padding: 0 .5ex}\n",
       "</style>\n",
       "<ol class=list-inline><li>1</li><li>3</li><li>4</li><li>5</li><li>3</li><li>1</li><li>2</li><li>5</li><li>1</li></ol>\n"
      ],
      "text/latex": [
       "\\begin{enumerate*}\n",
       "\\item 1\n",
       "\\item 3\n",
       "\\item 4\n",
       "\\item 5\n",
       "\\item 3\n",
       "\\item 1\n",
       "\\item 2\n",
       "\\item 5\n",
       "\\item 1\n",
       "\\end{enumerate*}\n"
      ],
      "text/markdown": [
       "1. 1\n",
       "2. 3\n",
       "3. 4\n",
       "4. 5\n",
       "5. 3\n",
       "6. 1\n",
       "7. 2\n",
       "8. 5\n",
       "9. 1\n",
       "\n",
       "\n"
      ],
      "text/plain": [
       "[1] 1 3 4 5 3 1 2 5 1"
      ]
     },
     "metadata": {},
     "output_type": "display_data"
    }
   ],
   "source": []
  },
  {
   "cell_type": "markdown",
   "id": "2726df50-d246-4b75-8672-4ab69fa57e7f",
   "metadata": {},
   "source": [
    "### Ordenar un vector"
   ]
  },
  {
   "cell_type": "markdown",
   "id": "92a20830-8cdf-4d67-b49d-97a7590cf1af",
   "metadata": {},
   "source": [
    "Trabajo sobre el vector acceder a elementos y ordenar"
   ]
  },
  {
   "cell_type": "markdown",
   "id": "e3f1a621-78db-4ed3-ba57-0553abc7f9a3",
   "metadata": {},
   "source": [
    ">_Ordene un vector de manera ascendente_"
   ]
  },
  {
   "cell_type": "code",
   "execution_count": 21,
   "id": "03a2b2e8-3ad4-46d0-9cbf-2b17437b53c7",
   "metadata": {},
   "outputs": [
    {
     "data": {
      "text/html": [
       "<style>\n",
       ".list-inline {list-style: none; margin:0; padding: 0}\n",
       ".list-inline>li {display: inline-block}\n",
       ".list-inline>li:not(:last-child)::after {content: \"\\00b7\"; padding: 0 .5ex}\n",
       "</style>\n",
       "<ol class=list-inline><li>1</li><li>1</li><li>2</li><li>3</li><li>5</li></ol>\n"
      ],
      "text/latex": [
       "\\begin{enumerate*}\n",
       "\\item 1\n",
       "\\item 1\n",
       "\\item 2\n",
       "\\item 3\n",
       "\\item 5\n",
       "\\end{enumerate*}\n"
      ],
      "text/markdown": [
       "1. 1\n",
       "2. 1\n",
       "3. 2\n",
       "4. 3\n",
       "5. 5\n",
       "\n",
       "\n"
      ],
      "text/plain": [
       "[1] 1 1 2 3 5"
      ]
     },
     "metadata": {},
     "output_type": "display_data"
    }
   ],
   "source": []
  },
  {
   "cell_type": "markdown",
   "id": "6c4ff961-21fc-48bd-83c0-295b42273344",
   "metadata": {},
   "source": [
    ">_Ordene el vector en orden decreciente_"
   ]
  },
  {
   "cell_type": "code",
   "execution_count": 24,
   "id": "d622501b-c304-4f55-b551-79f39054c175",
   "metadata": {},
   "outputs": [
    {
     "data": {
      "text/html": [
       "<style>\n",
       ".list-inline {list-style: none; margin:0; padding: 0}\n",
       ".list-inline>li {display: inline-block}\n",
       ".list-inline>li:not(:last-child)::after {content: \"\\00b7\"; padding: 0 .5ex}\n",
       "</style>\n",
       "<ol class=list-inline><li>5</li><li>3</li><li>2</li><li>1</li><li>1</li></ol>\n"
      ],
      "text/latex": [
       "\\begin{enumerate*}\n",
       "\\item 5\n",
       "\\item 3\n",
       "\\item 2\n",
       "\\item 1\n",
       "\\item 1\n",
       "\\end{enumerate*}\n"
      ],
      "text/markdown": [
       "1. 5\n",
       "2. 3\n",
       "3. 2\n",
       "4. 1\n",
       "5. 1\n",
       "\n",
       "\n"
      ],
      "text/plain": [
       "[1] 5 3 2 1 1"
      ]
     },
     "metadata": {},
     "output_type": "display_data"
    }
   ],
   "source": []
  },
  {
   "cell_type": "markdown",
   "id": "5ba54547-eb7d-4d5f-b6ab-8dc803676836",
   "metadata": {
    "tags": []
   },
   "source": [
    "## Tipos de dato en R"
   ]
  },
  {
   "cell_type": "markdown",
   "id": "7b13953f-13c4-425d-a137-6fdb85782068",
   "metadata": {},
   "source": [
    ">_Obtenga el tipo de variable del vector anterior_"
   ]
  },
  {
   "cell_type": "code",
   "execution_count": 5,
   "id": "3a042bcc-8130-4fa0-aed2-188a6df1d4c8",
   "metadata": {},
   "outputs": [
    {
     "data": {
      "text/html": [
       "'numeric'"
      ],
      "text/latex": [
       "'numeric'"
      ],
      "text/markdown": [
       "'numeric'"
      ],
      "text/plain": [
       "[1] \"numeric\""
      ]
     },
     "metadata": {},
     "output_type": "display_data"
    }
   ],
   "source": []
  },
  {
   "cell_type": "markdown",
   "id": "6a6009c7-55df-4df5-a5b7-e3dd24e96811",
   "metadata": {
    "tags": []
   },
   "source": [
    "### Valores de un objeto"
   ]
  },
  {
   "cell_type": "markdown",
   "id": "6376da56-b525-4772-a470-678e6ffb53eb",
   "metadata": {},
   "source": [
    ">_Obtenga los valores distintos del vector anterior_"
   ]
  },
  {
   "cell_type": "code",
   "execution_count": 40,
   "id": "336f1238-c4a3-42be-abbf-cd4ad800dc5c",
   "metadata": {},
   "outputs": [
    {
     "data": {
      "text/html": [
       "<style>\n",
       ".list-inline {list-style: none; margin:0; padding: 0}\n",
       ".list-inline>li {display: inline-block}\n",
       ".list-inline>li:not(:last-child)::after {content: \"\\00b7\"; padding: 0 .5ex}\n",
       "</style>\n",
       "<ol class=list-inline><li>3</li><li>1</li><li>2</li><li>5</li></ol>\n"
      ],
      "text/latex": [
       "\\begin{enumerate*}\n",
       "\\item 3\n",
       "\\item 1\n",
       "\\item 2\n",
       "\\item 5\n",
       "\\end{enumerate*}\n"
      ],
      "text/markdown": [
       "1. 3\n",
       "2. 1\n",
       "3. 2\n",
       "4. 5\n",
       "\n",
       "\n"
      ],
      "text/plain": [
       "[1] 3 1 2 5"
      ]
     },
     "metadata": {},
     "output_type": "display_data"
    }
   ],
   "source": []
  },
  {
   "cell_type": "markdown",
   "id": "b24a05ac-59b8-45ad-9f7b-4d5a4e501766",
   "metadata": {
    "tags": []
   },
   "source": [
    "## Dataframes "
   ]
  },
  {
   "cell_type": "markdown",
   "id": "25eb3026-e950-4494-baf5-02c7cbb59e48",
   "metadata": {},
   "source": [
    "Un DataFrame es una estructura de datos que representa una tabla donde cada columna represnta una variable y cada fila seria el equivalente a una tupla."
   ]
  },
  {
   "cell_type": "markdown",
   "id": "9522f3e9-7183-49cb-8c1f-4d19a74b83d0",
   "metadata": {},
   "source": [
    ">_Declare un dataframe con tres variables_"
   ]
  },
  {
   "cell_type": "code",
   "execution_count": 35,
   "id": "71627f94-5674-4d2a-9d98-6589e3b3cd48",
   "metadata": {},
   "outputs": [
    {
     "data": {
      "text/html": [
       "<table class=\"dataframe\">\n",
       "<caption>A data.frame: 4 × 3</caption>\n",
       "<thead>\n",
       "\t<tr><th scope=col>Municipio</th><th scope=col>CP</th><th scope=col>pob</th></tr>\n",
       "\t<tr><th scope=col>&lt;chr&gt;</th><th scope=col>&lt;dbl&gt;</th><th scope=col>&lt;dbl&gt;</th></tr>\n",
       "</thead>\n",
       "<tbody>\n",
       "\t<tr><td>iztacalco    </td><td> 8100</td><td>1.0e+05</td></tr>\n",
       "\t<tr><td>cuatitlan    </td><td>54744</td><td>1.0e+01</td></tr>\n",
       "\t<tr><td>neza         </td><td>21456</td><td>1.0e+08</td></tr>\n",
       "\t<tr><td>benito juarez</td><td>18001</td><td>4.3e+01</td></tr>\n",
       "</tbody>\n",
       "</table>\n"
      ],
      "text/latex": [
       "A data.frame: 4 × 3\n",
       "\\begin{tabular}{lll}\n",
       " Municipio & CP & pob\\\\\n",
       " <chr> & <dbl> & <dbl>\\\\\n",
       "\\hline\n",
       "\t iztacalco     &  8100 & 1.0e+05\\\\\n",
       "\t cuatitlan     & 54744 & 1.0e+01\\\\\n",
       "\t neza          & 21456 & 1.0e+08\\\\\n",
       "\t benito juarez & 18001 & 4.3e+01\\\\\n",
       "\\end{tabular}\n"
      ],
      "text/markdown": [
       "\n",
       "A data.frame: 4 × 3\n",
       "\n",
       "| Municipio &lt;chr&gt; | CP &lt;dbl&gt; | pob &lt;dbl&gt; |\n",
       "|---|---|---|\n",
       "| iztacalco     |  8100 | 1.0e+05 |\n",
       "| cuatitlan     | 54744 | 1.0e+01 |\n",
       "| neza          | 21456 | 1.0e+08 |\n",
       "| benito juarez | 18001 | 4.3e+01 |\n",
       "\n"
      ],
      "text/plain": [
       "  Municipio     CP    pob    \n",
       "1 iztacalco      8100 1.0e+05\n",
       "2 cuatitlan     54744 1.0e+01\n",
       "3 neza          21456 1.0e+08\n",
       "4 benito juarez 18001 4.3e+01"
      ]
     },
     "metadata": {},
     "output_type": "display_data"
    }
   ],
   "source": []
  },
  {
   "cell_type": "markdown",
   "id": "6136a5d6-47be-45cd-9fc8-ad51d350d4a3",
   "metadata": {
    "tags": []
   },
   "source": [
    "## Manejo de cadenas"
   ]
  },
  {
   "cell_type": "markdown",
   "id": "09cea0a3-dd10-44d4-ab21-84a9635c6ecf",
   "metadata": {},
   "source": [
    "En esta sección se revisan los principales conceptos de manejo de cadenas.\n",
    "Los requisitos de esta sección:"
   ]
  },
  {
   "cell_type": "code",
   "execution_count": 42,
   "id": "eb12b2bd-0983-4dd4-8840-3ffa4cdb3693",
   "metadata": {},
   "outputs": [],
   "source": []
  },
  {
   "cell_type": "markdown",
   "id": "766dd911-d7fb-4d34-be5b-b05c4a6f786b",
   "metadata": {},
   "source": [
    "### Longitud de una cadena"
   ]
  },
  {
   "cell_type": "markdown",
   "id": "d73b73c2-45f6-4305-be9d-04c1315f9d6c",
   "metadata": {},
   "source": [
    ">_Determine la logitud de las siguientes cadenas:_ \n",
    ">\n",
    ">* _notebook jupyter_\n",
    ">* _R lenguaje_\n",
    ">* _90_\n",
    ">* _texto1_\n",
    "\n"
   ]
  },
  {
   "cell_type": "code",
   "execution_count": 33,
   "id": "00ea0134-e488-4c64-877e-bf8b03bc3d48",
   "metadata": {},
   "outputs": [
    {
     "data": {
      "text/html": [
       "<style>\n",
       ".list-inline {list-style: none; margin:0; padding: 0}\n",
       ".list-inline>li {display: inline-block}\n",
       ".list-inline>li:not(:last-child)::after {content: \"\\00b7\"; padding: 0 .5ex}\n",
       "</style>\n",
       "<ol class=list-inline><li>17</li><li>10</li><li>&lt;NA&gt;</li><li>6</li></ol>\n"
      ],
      "text/latex": [
       "\\begin{enumerate*}\n",
       "\\item 17\n",
       "\\item 10\n",
       "\\item <NA>\n",
       "\\item 6\n",
       "\\end{enumerate*}\n"
      ],
      "text/markdown": [
       "1. 17\n",
       "2. 10\n",
       "3. &lt;NA&gt;\n",
       "4. 6\n",
       "\n",
       "\n"
      ],
      "text/plain": [
       "[1] 17 10 NA  6"
      ]
     },
     "metadata": {},
     "output_type": "display_data"
    }
   ],
   "source": []
  },
  {
   "cell_type": "markdown",
   "id": "c0f803b7-a509-4cc8-a4b9-16083dff4718",
   "metadata": {
    "tags": []
   },
   "source": [
    "### Combinar cadenas"
   ]
  },
  {
   "cell_type": "markdown",
   "id": "70bd8138-da1d-41de-bf98-571dd30048b5",
   "metadata": {},
   "source": [
    ">_Crea la siguiente frase a partir de 3 cadenas de caracteres_  **_\"hola y adiós\"_**"
   ]
  },
  {
   "cell_type": "code",
   "execution_count": 68,
   "id": "c953c862-fb82-4fba-a700-d6b03ddb1c04",
   "metadata": {},
   "outputs": [
    {
     "name": "stdout",
     "output_type": "stream",
     "text": [
      "hola  y  adios"
     ]
    }
   ],
   "source": []
  },
  {
   "cell_type": "markdown",
   "id": "2b367f8b-091d-4b51-9fa2-80b6fae9f513",
   "metadata": {},
   "source": [
    "### Ordenar palabras"
   ]
  },
  {
   "cell_type": "markdown",
   "id": "e92b0e91-397c-4d71-b2ad-e24baf13af9e",
   "metadata": {},
   "source": [
    "> _Ordena las siguientes palabras:_\n",
    ">\n",
    ">- maceta\n",
    ">- jabon\n",
    ">- vaso\n",
    ">- reloj"
   ]
  },
  {
   "cell_type": "code",
   "execution_count": 44,
   "id": "3dc6ee6c-6452-4965-97ac-9377ac55d4c9",
   "metadata": {},
   "outputs": [
    {
     "data": {
      "text/html": [
       "<style>\n",
       ".list-inline {list-style: none; margin:0; padding: 0}\n",
       ".list-inline>li {display: inline-block}\n",
       ".list-inline>li:not(:last-child)::after {content: \"\\00b7\"; padding: 0 .5ex}\n",
       "</style>\n",
       "<ol class=list-inline><li>'jabon'</li><li>'maceta'</li><li>'reloj'</li><li>'vaso'</li></ol>\n"
      ],
      "text/latex": [
       "\\begin{enumerate*}\n",
       "\\item 'jabon'\n",
       "\\item 'maceta'\n",
       "\\item 'reloj'\n",
       "\\item 'vaso'\n",
       "\\end{enumerate*}\n"
      ],
      "text/markdown": [
       "1. 'jabon'\n",
       "2. 'maceta'\n",
       "3. 'reloj'\n",
       "4. 'vaso'\n",
       "\n",
       "\n"
      ],
      "text/plain": [
       "[1] \"jabon\"  \"maceta\" \"reloj\"  \"vaso\"  "
      ]
     },
     "metadata": {},
     "output_type": "display_data"
    }
   ],
   "source": []
  },
  {
   "cell_type": "markdown",
   "id": "24f827a9-e635-42ea-b927-a8b4fe261cd5",
   "metadata": {},
   "source": [
    "## Separar palabras"
   ]
  },
  {
   "cell_type": "markdown",
   "id": "4c6faf24-797c-4bb5-bf7c-1fe3deb87fd5",
   "metadata": {},
   "source": [
    "> _Separe la siguiente frase en cadenas separadas por los espacios_  _\"Jupyter Notebook ma ayuda a entender mejor R\"_"
   ]
  },
  {
   "cell_type": "code",
   "execution_count": 67,
   "id": "bbeac2a8-4fb7-424c-a48e-dc448d939fd9",
   "metadata": {},
   "outputs": [
    {
     "data": {
      "text/html": [
       "<ol>\n",
       "\t<li><style>\n",
       ".list-inline {list-style: none; margin:0; padding: 0}\n",
       ".list-inline>li {display: inline-block}\n",
       ".list-inline>li:not(:last-child)::after {content: \"\\00b7\"; padding: 0 .5ex}\n",
       "</style>\n",
       "<ol class=list-inline><li>'Jupyter'</li><li>'Notebook'</li><li>'ma'</li><li>'ayuda'</li><li>'a'</li><li>'entender'</li><li>'mejor'</li><li>'R'</li></ol>\n",
       "</li>\n",
       "</ol>\n"
      ],
      "text/latex": [
       "\\begin{enumerate}\n",
       "\\item \\begin{enumerate*}\n",
       "\\item 'Jupyter'\n",
       "\\item 'Notebook'\n",
       "\\item 'ma'\n",
       "\\item 'ayuda'\n",
       "\\item 'a'\n",
       "\\item 'entender'\n",
       "\\item 'mejor'\n",
       "\\item 'R'\n",
       "\\end{enumerate*}\n",
       "\n",
       "\\end{enumerate}\n"
      ],
      "text/markdown": [
       "1. 1. 'Jupyter'\n",
       "2. 'Notebook'\n",
       "3. 'ma'\n",
       "4. 'ayuda'\n",
       "5. 'a'\n",
       "6. 'entender'\n",
       "7. 'mejor'\n",
       "8. 'R'\n",
       "\n",
       "\n",
       "\n",
       "\n",
       "\n"
      ],
      "text/plain": [
       "[[1]]\n",
       "[1] \"Jupyter\"  \"Notebook\" \"ma\"       \"ayuda\"    \"a\"        \"entender\" \"mejor\"   \n",
       "[8] \"R\"       \n"
      ]
     },
     "metadata": {},
     "output_type": "display_data"
    }
   ],
   "source": []
  },
  {
   "cell_type": "markdown",
   "id": "4672fae3-02bf-4236-b9d4-6cd1cb67e949",
   "metadata": {},
   "source": [
    "## Ejercicio "
   ]
  },
  {
   "cell_type": "markdown",
   "id": "b19c92c5-238d-4719-b57d-9f9387923b92",
   "metadata": {},
   "source": [
    "> Dada una cadena, **_S_** , de longitud **_N_** que está indexado desdea 0 a **_N-1_**, imprima sus caracteres indexados pares e impares \n",
    "> como 2 cadenas separadas por espacios en una sola línea, Nota 0 se considera par.\n",
    "> Ejemplo\n",
    "> s = abcdf\n",
    "> Salida = abc  def\n",
    "> \n",
    "> Considere que el vector de entrada en el primer elemento indica el número de palabras analizar\n",
    "> Vector prueba : input <- c(\"2\",\"Cacao\",\"Sandia\")\n",
    ">\n",
    ">\n",
    "> Ejemplo 2\n",
    ">\n",
    "> input <- c(\"2\",\"Cacao\",\"Sandia\")\n",
    "> \n",
    ">Salida<br>\n",
    ">\n",
    "> Cco aa<br>\n",
    "> Sni ada<br><br>\n",
    ">\n",
    "> Ejemplo 3<br>\n",
    "> input <- c(\"3\",\"Melon\",\"Piña\",\"Pepino\")<br>\n",
    "> Salida\n",
    "> Mln\teo <br>\n",
    "> Pñ\tia<br>\n",
    "> Ppn\teio<br>\n"
   ]
  },
  {
   "cell_type": "code",
   "execution_count": 86,
   "id": "2247c586-8d7b-4efd-8eb2-daf7a22f2325",
   "metadata": {},
   "outputs": [
    {
     "name": "stdout",
     "output_type": "stream",
     "text": [
      "M l n \te o \n",
      "P ñ \ti a \n",
      "P p n \te i o \n"
     ]
    }
   ],
   "source": []
  },
  {
   "cell_type": "markdown",
   "id": "c59b6302-8020-42e9-b08d-1d8d40473215",
   "metadata": {},
   "source": [
    "## Manejo de archivos "
   ]
  },
  {
   "cell_type": "markdown",
   "id": "2271af2a-e96e-43bb-9932-80b327702c69",
   "metadata": {},
   "source": [
    "lea un archivo CSV desde un notebook "
   ]
  },
  {
   "cell_type": "code",
   "execution_count": 92,
   "id": "6976c64e-e4e2-467d-94d5-4cad391dbac3",
   "metadata": {},
   "outputs": [
    {
     "data": {
      "text/html": [
       "<table class=\"dataframe\">\n",
       "<caption>A data.frame: 33 × 856</caption>\n",
       "<thead>\n",
       "\t<tr><th scope=col>cve_ent</th><th scope=col>poblacion</th><th scope=col>nombre</th><th scope=col>X26.02.2020</th><th scope=col>X27.02.2020</th><th scope=col>X28.02.2020</th><th scope=col>X29.02.2020</th><th scope=col>X01.03.2020</th><th scope=col>X02.03.2020</th><th scope=col>X03.03.2020</th><th scope=col>⋯</th><th scope=col>X18.06.2022</th><th scope=col>X19.06.2022</th><th scope=col>X20.06.2022</th><th scope=col>X21.06.2022</th><th scope=col>X22.06.2022</th><th scope=col>X23.06.2022</th><th scope=col>X24.06.2022</th><th scope=col>X25.06.2022</th><th scope=col>X26.06.2022</th><th scope=col>X27.06.2022</th></tr>\n",
       "\t<tr><th scope=col>&lt;int&gt;</th><th scope=col>&lt;int&gt;</th><th scope=col>&lt;chr&gt;</th><th scope=col>&lt;int&gt;</th><th scope=col>&lt;int&gt;</th><th scope=col>&lt;int&gt;</th><th scope=col>&lt;int&gt;</th><th scope=col>&lt;int&gt;</th><th scope=col>&lt;int&gt;</th><th scope=col>&lt;int&gt;</th><th scope=col>⋯</th><th scope=col>&lt;int&gt;</th><th scope=col>&lt;int&gt;</th><th scope=col>&lt;int&gt;</th><th scope=col>&lt;int&gt;</th><th scope=col>&lt;int&gt;</th><th scope=col>&lt;int&gt;</th><th scope=col>&lt;int&gt;</th><th scope=col>&lt;int&gt;</th><th scope=col>&lt;int&gt;</th><th scope=col>&lt;int&gt;</th></tr>\n",
       "</thead>\n",
       "<tbody>\n",
       "\t<tr><td> 1</td><td>  1434635</td><td>AGUASCALIENTES     </td><td>0</td><td>0</td><td>0</td><td>0</td><td>0</td><td>0</td><td>0</td><td>⋯</td><td>  23</td><td>  11</td><td>  162</td><td>  135</td><td>  141</td><td>  162</td><td>  67</td><td>   3</td><td>   1</td><td>0</td></tr>\n",
       "\t<tr><td> 2</td><td>  3634868</td><td>BAJA CALIFORNIA    </td><td>0</td><td>0</td><td>0</td><td>0</td><td>0</td><td>0</td><td>0</td><td>⋯</td><td>  43</td><td>  33</td><td>  317</td><td>  364</td><td>  307</td><td>  295</td><td> 183</td><td>  19</td><td>  10</td><td>0</td></tr>\n",
       "\t<tr><td> 3</td><td>   804708</td><td>BAJA CALIFORNIA SUR</td><td>0</td><td>0</td><td>0</td><td>0</td><td>0</td><td>0</td><td>0</td><td>⋯</td><td>  63</td><td>  52</td><td>  366</td><td>  335</td><td>  366</td><td>  348</td><td> 294</td><td>  43</td><td>  49</td><td>1</td></tr>\n",
       "\t<tr><td> 4</td><td>  1000617</td><td>CAMPECHE           </td><td>0</td><td>0</td><td>0</td><td>0</td><td>0</td><td>0</td><td>0</td><td>⋯</td><td>  22</td><td>  33</td><td>  108</td><td>   95</td><td>  113</td><td>   91</td><td>  83</td><td>  26</td><td>   2</td><td>0</td></tr>\n",
       "\t<tr><td> 7</td><td>  5730367</td><td>CHIAPAS            </td><td>0</td><td>0</td><td>0</td><td>1</td><td>0</td><td>0</td><td>0</td><td>⋯</td><td>   3</td><td>   7</td><td>   20</td><td>   16</td><td>   11</td><td>   19</td><td>  17</td><td>   0</td><td>   1</td><td>0</td></tr>\n",
       "\t<tr><td> 8</td><td>  3801487</td><td>CHIHUAHUA          </td><td>0</td><td>0</td><td>0</td><td>0</td><td>0</td><td>0</td><td>0</td><td>⋯</td><td>  58</td><td>  45</td><td>  242</td><td>  220</td><td>  227</td><td>  208</td><td>  91</td><td>   4</td><td>   1</td><td>0</td></tr>\n",
       "\t<tr><td> 9</td><td>  9018645</td><td>DISTRITO FEDERAL   </td><td>0</td><td>2</td><td>0</td><td>0</td><td>0</td><td>0</td><td>1</td><td>⋯</td><td>1457</td><td>1160</td><td> 4904</td><td> 4839</td><td> 4919</td><td> 4611</td><td>3478</td><td> 696</td><td> 474</td><td>0</td></tr>\n",
       "\t<tr><td> 5</td><td>  3218720</td><td>COAHUILA           </td><td>0</td><td>0</td><td>1</td><td>0</td><td>0</td><td>0</td><td>1</td><td>⋯</td><td>  61</td><td>  57</td><td>  266</td><td>  290</td><td>  358</td><td>  325</td><td> 205</td><td>  61</td><td>  43</td><td>0</td></tr>\n",
       "\t<tr><td> 6</td><td>   785153</td><td>COLIMA             </td><td>0</td><td>0</td><td>0</td><td>0</td><td>0</td><td>0</td><td>0</td><td>⋯</td><td>  24</td><td>  58</td><td>  130</td><td>  147</td><td>  126</td><td>  169</td><td>  61</td><td>  36</td><td>   7</td><td>0</td></tr>\n",
       "\t<tr><td>10</td><td>  1868996</td><td>DURANGO            </td><td>0</td><td>0</td><td>0</td><td>0</td><td>0</td><td>0</td><td>0</td><td>⋯</td><td>  16</td><td>  22</td><td>  194</td><td>  145</td><td>  191</td><td>  186</td><td> 133</td><td>  24</td><td>  21</td><td>0</td></tr>\n",
       "\t<tr><td>11</td><td>  6228175</td><td>GUANAJUATO         </td><td>0</td><td>0</td><td>0</td><td>0</td><td>1</td><td>3</td><td>3</td><td>⋯</td><td>  84</td><td> 115</td><td>  396</td><td>  369</td><td>  295</td><td>  288</td><td> 141</td><td>  32</td><td>  22</td><td>0</td></tr>\n",
       "\t<tr><td>12</td><td>  3657048</td><td>GUERRERO           </td><td>0</td><td>0</td><td>0</td><td>0</td><td>0</td><td>0</td><td>0</td><td>⋯</td><td>  12</td><td>  27</td><td>   76</td><td>   97</td><td>   63</td><td>   56</td><td>  51</td><td>  17</td><td>   9</td><td>0</td></tr>\n",
       "\t<tr><td>13</td><td>  3086414</td><td>HIDALGO            </td><td>0</td><td>1</td><td>0</td><td>0</td><td>0</td><td>0</td><td>0</td><td>⋯</td><td>  73</td><td>  58</td><td>  251</td><td>  233</td><td>  235</td><td>  261</td><td> 156</td><td>  52</td><td>  54</td><td>0</td></tr>\n",
       "\t<tr><td>14</td><td>  8409693</td><td>JALISCO            </td><td>0</td><td>0</td><td>0</td><td>0</td><td>0</td><td>0</td><td>0</td><td>⋯</td><td>  97</td><td>  86</td><td>  392</td><td>  374</td><td>  369</td><td>  308</td><td> 161</td><td>  30</td><td>  15</td><td>0</td></tr>\n",
       "\t<tr><td>15</td><td> 17427790</td><td>MEXICO             </td><td>0</td><td>1</td><td>1</td><td>1</td><td>0</td><td>2</td><td>2</td><td>⋯</td><td> 206</td><td> 185</td><td> 1640</td><td> 1539</td><td> 1697</td><td> 1601</td><td> 809</td><td> 163</td><td>  67</td><td>0</td></tr>\n",
       "\t<tr><td>16</td><td>  4825401</td><td>MICHOACAN          </td><td>0</td><td>0</td><td>0</td><td>0</td><td>0</td><td>0</td><td>0</td><td>⋯</td><td>  13</td><td>  18</td><td>   95</td><td>   76</td><td>   69</td><td>   89</td><td>  46</td><td>  12</td><td>   7</td><td>0</td></tr>\n",
       "\t<tr><td>17</td><td>  2044058</td><td>MORELOS            </td><td>0</td><td>0</td><td>0</td><td>0</td><td>0</td><td>0</td><td>0</td><td>⋯</td><td>  23</td><td>   7</td><td>   52</td><td>   73</td><td>   81</td><td>   77</td><td>  27</td><td>  14</td><td>   1</td><td>0</td></tr>\n",
       "\t<tr><td>18</td><td>  1288571</td><td>NAYARIT            </td><td>0</td><td>0</td><td>0</td><td>0</td><td>0</td><td>0</td><td>1</td><td>⋯</td><td>  44</td><td>  52</td><td>  151</td><td>  125</td><td>  148</td><td>   89</td><td>  46</td><td>   9</td><td>   8</td><td>0</td></tr>\n",
       "\t<tr><td>19</td><td>  5610153</td><td>NUEVO LEON         </td><td>0</td><td>0</td><td>0</td><td>0</td><td>0</td><td>0</td><td>0</td><td>⋯</td><td> 207</td><td> 179</td><td> 1062</td><td>  998</td><td>  991</td><td>  677</td><td> 427</td><td> 142</td><td>  57</td><td>0</td></tr>\n",
       "\t<tr><td>20</td><td>  4143593</td><td>OAXACA             </td><td>0</td><td>0</td><td>0</td><td>0</td><td>1</td><td>0</td><td>0</td><td>⋯</td><td>  96</td><td>  77</td><td>  241</td><td>  212</td><td>  214</td><td>  231</td><td> 132</td><td>  83</td><td>  21</td><td>0</td></tr>\n",
       "\t<tr><td>21</td><td>  6604451</td><td>PUEBLA             </td><td>0</td><td>0</td><td>0</td><td>0</td><td>0</td><td>0</td><td>0</td><td>⋯</td><td>  55</td><td>  49</td><td>  257</td><td>  265</td><td>  335</td><td>  299</td><td> 287</td><td> 101</td><td>  87</td><td>0</td></tr>\n",
       "\t<tr><td>22</td><td>  2279637</td><td>QUERETARO          </td><td>0</td><td>0</td><td>0</td><td>0</td><td>0</td><td>0</td><td>0</td><td>⋯</td><td>  28</td><td>  57</td><td>  232</td><td>  270</td><td>  298</td><td>  302</td><td> 188</td><td>  72</td><td>  20</td><td>0</td></tr>\n",
       "\t<tr><td>23</td><td>  1723259</td><td>QUINTANA ROO       </td><td>0</td><td>0</td><td>0</td><td>0</td><td>0</td><td>0</td><td>0</td><td>⋯</td><td> 287</td><td> 271</td><td>  634</td><td>  614</td><td>  641</td><td>  683</td><td> 459</td><td> 243</td><td>  23</td><td>0</td></tr>\n",
       "\t<tr><td>24</td><td>  2866142</td><td>SAN LUIS POTOSI    </td><td>0</td><td>0</td><td>0</td><td>0</td><td>0</td><td>0</td><td>0</td><td>⋯</td><td>  90</td><td>  71</td><td>  334</td><td>  361</td><td>  326</td><td>  295</td><td> 220</td><td>  36</td><td>  13</td><td>0</td></tr>\n",
       "\t<tr><td>25</td><td>  3156674</td><td>SINALOA            </td><td>0</td><td>0</td><td>0</td><td>0</td><td>0</td><td>0</td><td>0</td><td>⋯</td><td> 389</td><td> 218</td><td>  846</td><td>  755</td><td>  798</td><td>  645</td><td> 481</td><td>  21</td><td>   9</td><td>0</td></tr>\n",
       "\t<tr><td>26</td><td>  3074745</td><td>SONORA             </td><td>0</td><td>0</td><td>0</td><td>0</td><td>0</td><td>0</td><td>0</td><td>⋯</td><td>  61</td><td>  54</td><td>  361</td><td>  303</td><td>  353</td><td>  335</td><td> 213</td><td>  48</td><td>  63</td><td>0</td></tr>\n",
       "\t<tr><td>27</td><td>  2572287</td><td>TABASCO            </td><td>0</td><td>0</td><td>0</td><td>0</td><td>0</td><td>0</td><td>0</td><td>⋯</td><td>  62</td><td>  24</td><td>  183</td><td>  233</td><td>  250</td><td>  299</td><td> 264</td><td> 109</td><td>   7</td><td>0</td></tr>\n",
       "\t<tr><td>28</td><td>  3650602</td><td>TAMAULIPAS         </td><td>0</td><td>0</td><td>0</td><td>0</td><td>0</td><td>0</td><td>0</td><td>⋯</td><td>  95</td><td> 107</td><td>  360</td><td>  338</td><td>  371</td><td>  297</td><td> 238</td><td>  92</td><td>  47</td><td>0</td></tr>\n",
       "\t<tr><td>29</td><td>  1380011</td><td>TLAXCALA           </td><td>0</td><td>0</td><td>0</td><td>0</td><td>0</td><td>0</td><td>0</td><td>⋯</td><td>   9</td><td>   6</td><td>   45</td><td>   50</td><td>   53</td><td>   34</td><td>  34</td><td>   1</td><td>   5</td><td>0</td></tr>\n",
       "\t<tr><td>30</td><td>  8539862</td><td>VERACRUZ           </td><td>0</td><td>0</td><td>0</td><td>0</td><td>0</td><td>0</td><td>0</td><td>⋯</td><td> 124</td><td> 128</td><td>  456</td><td>  429</td><td>  527</td><td>  442</td><td> 318</td><td> 171</td><td>  38</td><td>0</td></tr>\n",
       "\t<tr><td>31</td><td>  2259098</td><td>YUCATAN            </td><td>0</td><td>0</td><td>0</td><td>0</td><td>0</td><td>0</td><td>0</td><td>⋯</td><td>  97</td><td>  97</td><td>  598</td><td>  567</td><td>  535</td><td>  573</td><td> 374</td><td>  27</td><td>  20</td><td>0</td></tr>\n",
       "\t<tr><td>32</td><td>  1666426</td><td>ZACATECAS          </td><td>0</td><td>0</td><td>0</td><td>0</td><td>0</td><td>0</td><td>1</td><td>⋯</td><td>   9</td><td>  15</td><td>   88</td><td>  121</td><td>   95</td><td>   92</td><td>  76</td><td>   7</td><td>   2</td><td>0</td></tr>\n",
       "\t<tr><td> 0</td><td>127792286</td><td>Nacional           </td><td>0</td><td>4</td><td>2</td><td>2</td><td>2</td><td>5</td><td>9</td><td>⋯</td><td>3931</td><td>3379</td><td>15459</td><td>14988</td><td>15503</td><td>14387</td><td>9760</td><td>2394</td><td>1204</td><td>1</td></tr>\n",
       "</tbody>\n",
       "</table>\n"
      ],
      "text/latex": [
       "A data.frame: 33 × 856\n",
       "\\begin{tabular}{lllllllllllllllllllll}\n",
       " cve\\_ent & poblacion & nombre & X26.02.2020 & X27.02.2020 & X28.02.2020 & X29.02.2020 & X01.03.2020 & X02.03.2020 & X03.03.2020 & ⋯ & X18.06.2022 & X19.06.2022 & X20.06.2022 & X21.06.2022 & X22.06.2022 & X23.06.2022 & X24.06.2022 & X25.06.2022 & X26.06.2022 & X27.06.2022\\\\\n",
       " <int> & <int> & <chr> & <int> & <int> & <int> & <int> & <int> & <int> & <int> & ⋯ & <int> & <int> & <int> & <int> & <int> & <int> & <int> & <int> & <int> & <int>\\\\\n",
       "\\hline\n",
       "\t  1 &   1434635 & AGUASCALIENTES      & 0 & 0 & 0 & 0 & 0 & 0 & 0 & ⋯ &   23 &   11 &   162 &   135 &   141 &   162 &   67 &    3 &    1 & 0\\\\\n",
       "\t  2 &   3634868 & BAJA CALIFORNIA     & 0 & 0 & 0 & 0 & 0 & 0 & 0 & ⋯ &   43 &   33 &   317 &   364 &   307 &   295 &  183 &   19 &   10 & 0\\\\\n",
       "\t  3 &    804708 & BAJA CALIFORNIA SUR & 0 & 0 & 0 & 0 & 0 & 0 & 0 & ⋯ &   63 &   52 &   366 &   335 &   366 &   348 &  294 &   43 &   49 & 1\\\\\n",
       "\t  4 &   1000617 & CAMPECHE            & 0 & 0 & 0 & 0 & 0 & 0 & 0 & ⋯ &   22 &   33 &   108 &    95 &   113 &    91 &   83 &   26 &    2 & 0\\\\\n",
       "\t  7 &   5730367 & CHIAPAS             & 0 & 0 & 0 & 1 & 0 & 0 & 0 & ⋯ &    3 &    7 &    20 &    16 &    11 &    19 &   17 &    0 &    1 & 0\\\\\n",
       "\t  8 &   3801487 & CHIHUAHUA           & 0 & 0 & 0 & 0 & 0 & 0 & 0 & ⋯ &   58 &   45 &   242 &   220 &   227 &   208 &   91 &    4 &    1 & 0\\\\\n",
       "\t  9 &   9018645 & DISTRITO FEDERAL    & 0 & 2 & 0 & 0 & 0 & 0 & 1 & ⋯ & 1457 & 1160 &  4904 &  4839 &  4919 &  4611 & 3478 &  696 &  474 & 0\\\\\n",
       "\t  5 &   3218720 & COAHUILA            & 0 & 0 & 1 & 0 & 0 & 0 & 1 & ⋯ &   61 &   57 &   266 &   290 &   358 &   325 &  205 &   61 &   43 & 0\\\\\n",
       "\t  6 &    785153 & COLIMA              & 0 & 0 & 0 & 0 & 0 & 0 & 0 & ⋯ &   24 &   58 &   130 &   147 &   126 &   169 &   61 &   36 &    7 & 0\\\\\n",
       "\t 10 &   1868996 & DURANGO             & 0 & 0 & 0 & 0 & 0 & 0 & 0 & ⋯ &   16 &   22 &   194 &   145 &   191 &   186 &  133 &   24 &   21 & 0\\\\\n",
       "\t 11 &   6228175 & GUANAJUATO          & 0 & 0 & 0 & 0 & 1 & 3 & 3 & ⋯ &   84 &  115 &   396 &   369 &   295 &   288 &  141 &   32 &   22 & 0\\\\\n",
       "\t 12 &   3657048 & GUERRERO            & 0 & 0 & 0 & 0 & 0 & 0 & 0 & ⋯ &   12 &   27 &    76 &    97 &    63 &    56 &   51 &   17 &    9 & 0\\\\\n",
       "\t 13 &   3086414 & HIDALGO             & 0 & 1 & 0 & 0 & 0 & 0 & 0 & ⋯ &   73 &   58 &   251 &   233 &   235 &   261 &  156 &   52 &   54 & 0\\\\\n",
       "\t 14 &   8409693 & JALISCO             & 0 & 0 & 0 & 0 & 0 & 0 & 0 & ⋯ &   97 &   86 &   392 &   374 &   369 &   308 &  161 &   30 &   15 & 0\\\\\n",
       "\t 15 &  17427790 & MEXICO              & 0 & 1 & 1 & 1 & 0 & 2 & 2 & ⋯ &  206 &  185 &  1640 &  1539 &  1697 &  1601 &  809 &  163 &   67 & 0\\\\\n",
       "\t 16 &   4825401 & MICHOACAN           & 0 & 0 & 0 & 0 & 0 & 0 & 0 & ⋯ &   13 &   18 &    95 &    76 &    69 &    89 &   46 &   12 &    7 & 0\\\\\n",
       "\t 17 &   2044058 & MORELOS             & 0 & 0 & 0 & 0 & 0 & 0 & 0 & ⋯ &   23 &    7 &    52 &    73 &    81 &    77 &   27 &   14 &    1 & 0\\\\\n",
       "\t 18 &   1288571 & NAYARIT             & 0 & 0 & 0 & 0 & 0 & 0 & 1 & ⋯ &   44 &   52 &   151 &   125 &   148 &    89 &   46 &    9 &    8 & 0\\\\\n",
       "\t 19 &   5610153 & NUEVO LEON          & 0 & 0 & 0 & 0 & 0 & 0 & 0 & ⋯ &  207 &  179 &  1062 &   998 &   991 &   677 &  427 &  142 &   57 & 0\\\\\n",
       "\t 20 &   4143593 & OAXACA              & 0 & 0 & 0 & 0 & 1 & 0 & 0 & ⋯ &   96 &   77 &   241 &   212 &   214 &   231 &  132 &   83 &   21 & 0\\\\\n",
       "\t 21 &   6604451 & PUEBLA              & 0 & 0 & 0 & 0 & 0 & 0 & 0 & ⋯ &   55 &   49 &   257 &   265 &   335 &   299 &  287 &  101 &   87 & 0\\\\\n",
       "\t 22 &   2279637 & QUERETARO           & 0 & 0 & 0 & 0 & 0 & 0 & 0 & ⋯ &   28 &   57 &   232 &   270 &   298 &   302 &  188 &   72 &   20 & 0\\\\\n",
       "\t 23 &   1723259 & QUINTANA ROO        & 0 & 0 & 0 & 0 & 0 & 0 & 0 & ⋯ &  287 &  271 &   634 &   614 &   641 &   683 &  459 &  243 &   23 & 0\\\\\n",
       "\t 24 &   2866142 & SAN LUIS POTOSI     & 0 & 0 & 0 & 0 & 0 & 0 & 0 & ⋯ &   90 &   71 &   334 &   361 &   326 &   295 &  220 &   36 &   13 & 0\\\\\n",
       "\t 25 &   3156674 & SINALOA             & 0 & 0 & 0 & 0 & 0 & 0 & 0 & ⋯ &  389 &  218 &   846 &   755 &   798 &   645 &  481 &   21 &    9 & 0\\\\\n",
       "\t 26 &   3074745 & SONORA              & 0 & 0 & 0 & 0 & 0 & 0 & 0 & ⋯ &   61 &   54 &   361 &   303 &   353 &   335 &  213 &   48 &   63 & 0\\\\\n",
       "\t 27 &   2572287 & TABASCO             & 0 & 0 & 0 & 0 & 0 & 0 & 0 & ⋯ &   62 &   24 &   183 &   233 &   250 &   299 &  264 &  109 &    7 & 0\\\\\n",
       "\t 28 &   3650602 & TAMAULIPAS          & 0 & 0 & 0 & 0 & 0 & 0 & 0 & ⋯ &   95 &  107 &   360 &   338 &   371 &   297 &  238 &   92 &   47 & 0\\\\\n",
       "\t 29 &   1380011 & TLAXCALA            & 0 & 0 & 0 & 0 & 0 & 0 & 0 & ⋯ &    9 &    6 &    45 &    50 &    53 &    34 &   34 &    1 &    5 & 0\\\\\n",
       "\t 30 &   8539862 & VERACRUZ            & 0 & 0 & 0 & 0 & 0 & 0 & 0 & ⋯ &  124 &  128 &   456 &   429 &   527 &   442 &  318 &  171 &   38 & 0\\\\\n",
       "\t 31 &   2259098 & YUCATAN             & 0 & 0 & 0 & 0 & 0 & 0 & 0 & ⋯ &   97 &   97 &   598 &   567 &   535 &   573 &  374 &   27 &   20 & 0\\\\\n",
       "\t 32 &   1666426 & ZACATECAS           & 0 & 0 & 0 & 0 & 0 & 0 & 1 & ⋯ &    9 &   15 &    88 &   121 &    95 &    92 &   76 &    7 &    2 & 0\\\\\n",
       "\t  0 & 127792286 & Nacional            & 0 & 4 & 2 & 2 & 2 & 5 & 9 & ⋯ & 3931 & 3379 & 15459 & 14988 & 15503 & 14387 & 9760 & 2394 & 1204 & 1\\\\\n",
       "\\end{tabular}\n"
      ],
      "text/markdown": [
       "\n",
       "A data.frame: 33 × 856\n",
       "\n",
       "| cve_ent &lt;int&gt; | poblacion &lt;int&gt; | nombre &lt;chr&gt; | X26.02.2020 &lt;int&gt; | X27.02.2020 &lt;int&gt; | X28.02.2020 &lt;int&gt; | X29.02.2020 &lt;int&gt; | X01.03.2020 &lt;int&gt; | X02.03.2020 &lt;int&gt; | X03.03.2020 &lt;int&gt; | ⋯ ⋯ | X18.06.2022 &lt;int&gt; | X19.06.2022 &lt;int&gt; | X20.06.2022 &lt;int&gt; | X21.06.2022 &lt;int&gt; | X22.06.2022 &lt;int&gt; | X23.06.2022 &lt;int&gt; | X24.06.2022 &lt;int&gt; | X25.06.2022 &lt;int&gt; | X26.06.2022 &lt;int&gt; | X27.06.2022 &lt;int&gt; |\n",
       "|---|---|---|---|---|---|---|---|---|---|---|---|---|---|---|---|---|---|---|---|---|\n",
       "|  1 |   1434635 | AGUASCALIENTES      | 0 | 0 | 0 | 0 | 0 | 0 | 0 | ⋯ |   23 |   11 |   162 |   135 |   141 |   162 |   67 |    3 |    1 | 0 |\n",
       "|  2 |   3634868 | BAJA CALIFORNIA     | 0 | 0 | 0 | 0 | 0 | 0 | 0 | ⋯ |   43 |   33 |   317 |   364 |   307 |   295 |  183 |   19 |   10 | 0 |\n",
       "|  3 |    804708 | BAJA CALIFORNIA SUR | 0 | 0 | 0 | 0 | 0 | 0 | 0 | ⋯ |   63 |   52 |   366 |   335 |   366 |   348 |  294 |   43 |   49 | 1 |\n",
       "|  4 |   1000617 | CAMPECHE            | 0 | 0 | 0 | 0 | 0 | 0 | 0 | ⋯ |   22 |   33 |   108 |    95 |   113 |    91 |   83 |   26 |    2 | 0 |\n",
       "|  7 |   5730367 | CHIAPAS             | 0 | 0 | 0 | 1 | 0 | 0 | 0 | ⋯ |    3 |    7 |    20 |    16 |    11 |    19 |   17 |    0 |    1 | 0 |\n",
       "|  8 |   3801487 | CHIHUAHUA           | 0 | 0 | 0 | 0 | 0 | 0 | 0 | ⋯ |   58 |   45 |   242 |   220 |   227 |   208 |   91 |    4 |    1 | 0 |\n",
       "|  9 |   9018645 | DISTRITO FEDERAL    | 0 | 2 | 0 | 0 | 0 | 0 | 1 | ⋯ | 1457 | 1160 |  4904 |  4839 |  4919 |  4611 | 3478 |  696 |  474 | 0 |\n",
       "|  5 |   3218720 | COAHUILA            | 0 | 0 | 1 | 0 | 0 | 0 | 1 | ⋯ |   61 |   57 |   266 |   290 |   358 |   325 |  205 |   61 |   43 | 0 |\n",
       "|  6 |    785153 | COLIMA              | 0 | 0 | 0 | 0 | 0 | 0 | 0 | ⋯ |   24 |   58 |   130 |   147 |   126 |   169 |   61 |   36 |    7 | 0 |\n",
       "| 10 |   1868996 | DURANGO             | 0 | 0 | 0 | 0 | 0 | 0 | 0 | ⋯ |   16 |   22 |   194 |   145 |   191 |   186 |  133 |   24 |   21 | 0 |\n",
       "| 11 |   6228175 | GUANAJUATO          | 0 | 0 | 0 | 0 | 1 | 3 | 3 | ⋯ |   84 |  115 |   396 |   369 |   295 |   288 |  141 |   32 |   22 | 0 |\n",
       "| 12 |   3657048 | GUERRERO            | 0 | 0 | 0 | 0 | 0 | 0 | 0 | ⋯ |   12 |   27 |    76 |    97 |    63 |    56 |   51 |   17 |    9 | 0 |\n",
       "| 13 |   3086414 | HIDALGO             | 0 | 1 | 0 | 0 | 0 | 0 | 0 | ⋯ |   73 |   58 |   251 |   233 |   235 |   261 |  156 |   52 |   54 | 0 |\n",
       "| 14 |   8409693 | JALISCO             | 0 | 0 | 0 | 0 | 0 | 0 | 0 | ⋯ |   97 |   86 |   392 |   374 |   369 |   308 |  161 |   30 |   15 | 0 |\n",
       "| 15 |  17427790 | MEXICO              | 0 | 1 | 1 | 1 | 0 | 2 | 2 | ⋯ |  206 |  185 |  1640 |  1539 |  1697 |  1601 |  809 |  163 |   67 | 0 |\n",
       "| 16 |   4825401 | MICHOACAN           | 0 | 0 | 0 | 0 | 0 | 0 | 0 | ⋯ |   13 |   18 |    95 |    76 |    69 |    89 |   46 |   12 |    7 | 0 |\n",
       "| 17 |   2044058 | MORELOS             | 0 | 0 | 0 | 0 | 0 | 0 | 0 | ⋯ |   23 |    7 |    52 |    73 |    81 |    77 |   27 |   14 |    1 | 0 |\n",
       "| 18 |   1288571 | NAYARIT             | 0 | 0 | 0 | 0 | 0 | 0 | 1 | ⋯ |   44 |   52 |   151 |   125 |   148 |    89 |   46 |    9 |    8 | 0 |\n",
       "| 19 |   5610153 | NUEVO LEON          | 0 | 0 | 0 | 0 | 0 | 0 | 0 | ⋯ |  207 |  179 |  1062 |   998 |   991 |   677 |  427 |  142 |   57 | 0 |\n",
       "| 20 |   4143593 | OAXACA              | 0 | 0 | 0 | 0 | 1 | 0 | 0 | ⋯ |   96 |   77 |   241 |   212 |   214 |   231 |  132 |   83 |   21 | 0 |\n",
       "| 21 |   6604451 | PUEBLA              | 0 | 0 | 0 | 0 | 0 | 0 | 0 | ⋯ |   55 |   49 |   257 |   265 |   335 |   299 |  287 |  101 |   87 | 0 |\n",
       "| 22 |   2279637 | QUERETARO           | 0 | 0 | 0 | 0 | 0 | 0 | 0 | ⋯ |   28 |   57 |   232 |   270 |   298 |   302 |  188 |   72 |   20 | 0 |\n",
       "| 23 |   1723259 | QUINTANA ROO        | 0 | 0 | 0 | 0 | 0 | 0 | 0 | ⋯ |  287 |  271 |   634 |   614 |   641 |   683 |  459 |  243 |   23 | 0 |\n",
       "| 24 |   2866142 | SAN LUIS POTOSI     | 0 | 0 | 0 | 0 | 0 | 0 | 0 | ⋯ |   90 |   71 |   334 |   361 |   326 |   295 |  220 |   36 |   13 | 0 |\n",
       "| 25 |   3156674 | SINALOA             | 0 | 0 | 0 | 0 | 0 | 0 | 0 | ⋯ |  389 |  218 |   846 |   755 |   798 |   645 |  481 |   21 |    9 | 0 |\n",
       "| 26 |   3074745 | SONORA              | 0 | 0 | 0 | 0 | 0 | 0 | 0 | ⋯ |   61 |   54 |   361 |   303 |   353 |   335 |  213 |   48 |   63 | 0 |\n",
       "| 27 |   2572287 | TABASCO             | 0 | 0 | 0 | 0 | 0 | 0 | 0 | ⋯ |   62 |   24 |   183 |   233 |   250 |   299 |  264 |  109 |    7 | 0 |\n",
       "| 28 |   3650602 | TAMAULIPAS          | 0 | 0 | 0 | 0 | 0 | 0 | 0 | ⋯ |   95 |  107 |   360 |   338 |   371 |   297 |  238 |   92 |   47 | 0 |\n",
       "| 29 |   1380011 | TLAXCALA            | 0 | 0 | 0 | 0 | 0 | 0 | 0 | ⋯ |    9 |    6 |    45 |    50 |    53 |    34 |   34 |    1 |    5 | 0 |\n",
       "| 30 |   8539862 | VERACRUZ            | 0 | 0 | 0 | 0 | 0 | 0 | 0 | ⋯ |  124 |  128 |   456 |   429 |   527 |   442 |  318 |  171 |   38 | 0 |\n",
       "| 31 |   2259098 | YUCATAN             | 0 | 0 | 0 | 0 | 0 | 0 | 0 | ⋯ |   97 |   97 |   598 |   567 |   535 |   573 |  374 |   27 |   20 | 0 |\n",
       "| 32 |   1666426 | ZACATECAS           | 0 | 0 | 0 | 0 | 0 | 0 | 1 | ⋯ |    9 |   15 |    88 |   121 |    95 |    92 |   76 |    7 |    2 | 0 |\n",
       "|  0 | 127792286 | Nacional            | 0 | 4 | 2 | 2 | 2 | 5 | 9 | ⋯ | 3931 | 3379 | 15459 | 14988 | 15503 | 14387 | 9760 | 2394 | 1204 | 1 |\n",
       "\n"
      ],
      "text/plain": [
       "   cve_ent poblacion nombre              X26.02.2020 X27.02.2020 X28.02.2020\n",
       "1   1        1434635 AGUASCALIENTES      0           0           0          \n",
       "2   2        3634868 BAJA CALIFORNIA     0           0           0          \n",
       "3   3         804708 BAJA CALIFORNIA SUR 0           0           0          \n",
       "4   4        1000617 CAMPECHE            0           0           0          \n",
       "5   7        5730367 CHIAPAS             0           0           0          \n",
       "6   8        3801487 CHIHUAHUA           0           0           0          \n",
       "7   9        9018645 DISTRITO FEDERAL    0           2           0          \n",
       "8   5        3218720 COAHUILA            0           0           1          \n",
       "9   6         785153 COLIMA              0           0           0          \n",
       "10 10        1868996 DURANGO             0           0           0          \n",
       "11 11        6228175 GUANAJUATO          0           0           0          \n",
       "12 12        3657048 GUERRERO            0           0           0          \n",
       "13 13        3086414 HIDALGO             0           1           0          \n",
       "14 14        8409693 JALISCO             0           0           0          \n",
       "15 15       17427790 MEXICO              0           1           1          \n",
       "16 16        4825401 MICHOACAN           0           0           0          \n",
       "17 17        2044058 MORELOS             0           0           0          \n",
       "18 18        1288571 NAYARIT             0           0           0          \n",
       "19 19        5610153 NUEVO LEON          0           0           0          \n",
       "20 20        4143593 OAXACA              0           0           0          \n",
       "21 21        6604451 PUEBLA              0           0           0          \n",
       "22 22        2279637 QUERETARO           0           0           0          \n",
       "23 23        1723259 QUINTANA ROO        0           0           0          \n",
       "24 24        2866142 SAN LUIS POTOSI     0           0           0          \n",
       "25 25        3156674 SINALOA             0           0           0          \n",
       "26 26        3074745 SONORA              0           0           0          \n",
       "27 27        2572287 TABASCO             0           0           0          \n",
       "28 28        3650602 TAMAULIPAS          0           0           0          \n",
       "29 29        1380011 TLAXCALA            0           0           0          \n",
       "30 30        8539862 VERACRUZ            0           0           0          \n",
       "31 31        2259098 YUCATAN             0           0           0          \n",
       "32 32        1666426 ZACATECAS           0           0           0          \n",
       "33  0      127792286 Nacional            0           4           2          \n",
       "   X29.02.2020 X01.03.2020 X02.03.2020 X03.03.2020 ⋯ X18.06.2022 X19.06.2022\n",
       "1  0           0           0           0           ⋯   23          11       \n",
       "2  0           0           0           0           ⋯   43          33       \n",
       "3  0           0           0           0           ⋯   63          52       \n",
       "4  0           0           0           0           ⋯   22          33       \n",
       "5  1           0           0           0           ⋯    3           7       \n",
       "6  0           0           0           0           ⋯   58          45       \n",
       "7  0           0           0           1           ⋯ 1457        1160       \n",
       "8  0           0           0           1           ⋯   61          57       \n",
       "9  0           0           0           0           ⋯   24          58       \n",
       "10 0           0           0           0           ⋯   16          22       \n",
       "11 0           1           3           3           ⋯   84         115       \n",
       "12 0           0           0           0           ⋯   12          27       \n",
       "13 0           0           0           0           ⋯   73          58       \n",
       "14 0           0           0           0           ⋯   97          86       \n",
       "15 1           0           2           2           ⋯  206         185       \n",
       "16 0           0           0           0           ⋯   13          18       \n",
       "17 0           0           0           0           ⋯   23           7       \n",
       "18 0           0           0           1           ⋯   44          52       \n",
       "19 0           0           0           0           ⋯  207         179       \n",
       "20 0           1           0           0           ⋯   96          77       \n",
       "21 0           0           0           0           ⋯   55          49       \n",
       "22 0           0           0           0           ⋯   28          57       \n",
       "23 0           0           0           0           ⋯  287         271       \n",
       "24 0           0           0           0           ⋯   90          71       \n",
       "25 0           0           0           0           ⋯  389         218       \n",
       "26 0           0           0           0           ⋯   61          54       \n",
       "27 0           0           0           0           ⋯   62          24       \n",
       "28 0           0           0           0           ⋯   95         107       \n",
       "29 0           0           0           0           ⋯    9           6       \n",
       "30 0           0           0           0           ⋯  124         128       \n",
       "31 0           0           0           0           ⋯   97          97       \n",
       "32 0           0           0           1           ⋯    9          15       \n",
       "33 2           2           5           9           ⋯ 3931        3379       \n",
       "   X20.06.2022 X21.06.2022 X22.06.2022 X23.06.2022 X24.06.2022 X25.06.2022\n",
       "1    162         135         141         162         67           3       \n",
       "2    317         364         307         295        183          19       \n",
       "3    366         335         366         348        294          43       \n",
       "4    108          95         113          91         83          26       \n",
       "5     20          16          11          19         17           0       \n",
       "6    242         220         227         208         91           4       \n",
       "7   4904        4839        4919        4611       3478         696       \n",
       "8    266         290         358         325        205          61       \n",
       "9    130         147         126         169         61          36       \n",
       "10   194         145         191         186        133          24       \n",
       "11   396         369         295         288        141          32       \n",
       "12    76          97          63          56         51          17       \n",
       "13   251         233         235         261        156          52       \n",
       "14   392         374         369         308        161          30       \n",
       "15  1640        1539        1697        1601        809         163       \n",
       "16    95          76          69          89         46          12       \n",
       "17    52          73          81          77         27          14       \n",
       "18   151         125         148          89         46           9       \n",
       "19  1062         998         991         677        427         142       \n",
       "20   241         212         214         231        132          83       \n",
       "21   257         265         335         299        287         101       \n",
       "22   232         270         298         302        188          72       \n",
       "23   634         614         641         683        459         243       \n",
       "24   334         361         326         295        220          36       \n",
       "25   846         755         798         645        481          21       \n",
       "26   361         303         353         335        213          48       \n",
       "27   183         233         250         299        264         109       \n",
       "28   360         338         371         297        238          92       \n",
       "29    45          50          53          34         34           1       \n",
       "30   456         429         527         442        318         171       \n",
       "31   598         567         535         573        374          27       \n",
       "32    88         121          95          92         76           7       \n",
       "33 15459       14988       15503       14387       9760        2394       \n",
       "   X26.06.2022 X27.06.2022\n",
       "1     1        0          \n",
       "2    10        0          \n",
       "3    49        1          \n",
       "4     2        0          \n",
       "5     1        0          \n",
       "6     1        0          \n",
       "7   474        0          \n",
       "8    43        0          \n",
       "9     7        0          \n",
       "10   21        0          \n",
       "11   22        0          \n",
       "12    9        0          \n",
       "13   54        0          \n",
       "14   15        0          \n",
       "15   67        0          \n",
       "16    7        0          \n",
       "17    1        0          \n",
       "18    8        0          \n",
       "19   57        0          \n",
       "20   21        0          \n",
       "21   87        0          \n",
       "22   20        0          \n",
       "23   23        0          \n",
       "24   13        0          \n",
       "25    9        0          \n",
       "26   63        0          \n",
       "27    7        0          \n",
       "28   47        0          \n",
       "29    5        0          \n",
       "30   38        0          \n",
       "31   20        0          \n",
       "32    2        0          \n",
       "33 1204        1          "
      ]
     },
     "metadata": {},
     "output_type": "display_data"
    }
   ],
   "source": [
    "\n"
   ]
  },
  {
   "cell_type": "code",
   "execution_count": null,
   "id": "141efaad-a879-44fc-96d2-b79f4c955194",
   "metadata": {},
   "outputs": [],
   "source": []
  }
 ],
 "metadata": {
  "kernelspec": {
   "display_name": "R",
   "language": "R",
   "name": "ir"
  },
  "language_info": {
   "codemirror_mode": "r",
   "file_extension": ".r",
   "mimetype": "text/x-r-source",
   "name": "R",
   "pygments_lexer": "r",
   "version": "4.1.2"
  }
 },
 "nbformat": 4,
 "nbformat_minor": 5
}
