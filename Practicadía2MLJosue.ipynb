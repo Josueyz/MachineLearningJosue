{
 "cells": [
  {
   "cell_type": "markdown",
   "id": "151e8ae6-7f39-4bbd-b153-fa54576f7548",
   "metadata": {},
   "source": [
    "# Ejemplo\n",
    "_texto_ <br>\n",
    "texto <br>\n",
    "**texto** \\\n",
    "**_texto_**\n",
    ">cita \\\n",
    "\n",
    "cita\n",
    "> **_texto_** \\\n",
    "- Viñeta"
   ]
  },
  {
   "cell_type": "code",
   "execution_count": null,
   "id": "88c3f618-4a37-4a6c-9881-8741aaa4a6ff",
   "metadata": {},
   "outputs": [],
   "source": []
  }
 ],
 "metadata": {
  "kernelspec": {
   "display_name": "R",
   "language": "R",
   "name": "ir"
  },
  "language_info": {
   "codemirror_mode": "r",
   "file_extension": ".r",
   "mimetype": "text/x-r-source",
   "name": "R",
   "pygments_lexer": "r",
   "version": "4.1.2"
  }
 },
 "nbformat": 4,
 "nbformat_minor": 5
}
